{
 "cells": [
  {
   "cell_type": "markdown",
   "metadata": {
    "collapsed": true
   },
   "source": [
    "# Scientific Python\n",
    "\n",
    "O `python` dispõe de uma série de bibliotecas para tarefas \"científicas\" que incluem:\n",
    "* obter dados\n",
    "* manipular e processar dados\n",
    "* visualizar resultados\n",
    "* comunicar resultados: produzir figuras para relatórios ou artigos e apresentações.\n",
    "\n",
    "O _scientific python_ é composto pelos seguintes módulos:\n",
    "* **python**, a generic and modern computing language\n",
    "    * Python language: data types (string, int), flow control, data collections (lists, dictionaries), patterns, etc.\n",
    "    * Modules of the standard library.\n",
    "    * A large number of specialized modules or applications written in Python: web protocols, web framework, etc. ... and scientific computing.\n",
    "    * Development tools (automatic testing, documentation generation)\n",
    "\n",
    "* **IPython**, an advanced Python shell [http://ipython.org/](http://ipython.org/)\n",
    "* **Numpy**: provides powerful numerical arrays objects, and routines to manipulate them. [http://www.numpy.org/](http://www.numpy.org/)\n",
    "* **Scipy**: high-level data processing routines. Optimization, regression, interpolation, etc [http://www.scipy.org/](http://www.scipy.org/)\n",
    "* **Matplotlib**: 2-D visualization, “publication-ready” plots [http://matplotlib.org/](http://matplotlib.org/)\n",
    "* **Mayavi**: 3-D visualization [http://code.enthought.com/projects/mayavi/](http://code.enthought.com/projects/mayavi/)\n",
    "\n",
    "\n",
    "Esta parte do tutorial é adaptada de própria documentação disponível em [https://docs.scipy.org/doc/numpy-dev/user/quickstart.html](https://docs.scipy.org/doc/numpy-dev/user/quickstart.html).\n",
    "\n",
    "**Referências** para mais documentação:\n",
    "* [NumPy Reference](https://docs.scipy.org/doc/numpy-dev/reference/index.html#reference)\n",
    "* [SciPy Tutorial](https://docs.scipy.org/doc/scipy/reference/tutorial/index.html)\n",
    "* [SciPy Lecture Notes](http://www.scipy-lectures.org/)\n",
    "\n",
    "## Conteúdo \n",
    "* [Motivação](#Motivação)\n",
    "* [Os básicos](#Os&nbsp;básicos)\n",
    "* [Arrays](#Arrays)\n",
    "* [Operações elemento-a-elemento](# Operações&nbsp;elemento-a-elemento)\n",
    "* [Funções universais](# Funções&nbsp;universais)\n",
    "* [Índices, slices e iterações](# Índices,&nbsp;slices&nbsp;e&nbsp;iterações)\n",
    "* [Alterar as dimensões de um array](# Alterar&nbsp;as&nbsp;dimensões&nbsp;de&nbsp;um&nbsp;array.)\n",
    "* [Alguns truques](# Alguns&nbsp;truques)\n",
    "* [Operações algébricas](#Operações&nbsp;algébricas)\n"
   ]
  },
  {
   "cell_type": "markdown",
   "metadata": {},
   "source": [
    "## Motivação\n",
    "\n",
    "Para além de uma representação mais compacta (face a listas, dicionários, tuplos, ...), sempre que os dados são numéricos devem ser usados arrays NumPy. Uma das grandes vantagens é em termos da velocidade das operações.\n",
    "\n",
    "Considere dois vectores de inteiros com 100000 entradas cada. Quer-se calcular o produto interno."
   ]
  },
  {
   "cell_type": "code",
   "execution_count": null,
   "metadata": {
    "collapsed": true
   },
   "outputs": [],
   "source": [
    "import numpy as np\n",
    "import scipy as sci"
   ]
  },
  {
   "cell_type": "code",
   "execution_count": null,
   "metadata": {
    "collapsed": true
   },
   "outputs": [],
   "source": [
    "v1 = [0 for x in range(1000000)]\n",
    "v2 = [0 for x in range(1000000)]"
   ]
  },
  {
   "cell_type": "code",
   "execution_count": null,
   "metadata": {
    "collapsed": false
   },
   "outputs": [],
   "source": [
    "def prodint(u,v):\n",
    "    s = 0\n",
    "    for i in range(len(v1)): \n",
    "        s += v1[i]*v2[i]\n",
    "    return s"
   ]
  },
  {
   "cell_type": "code",
   "execution_count": null,
   "metadata": {
    "collapsed": false
   },
   "outputs": [],
   "source": [
    "%timeit prodint(v1,v2)"
   ]
  },
  {
   "cell_type": "code",
   "execution_count": null,
   "metadata": {
    "collapsed": false
   },
   "outputs": [],
   "source": [
    "u1 = np.zeros(1000000, dtype='int32')\n",
    "u2 = np.zeros(1000000, dtype='int32')"
   ]
  },
  {
   "cell_type": "code",
   "execution_count": null,
   "metadata": {
    "collapsed": false
   },
   "outputs": [],
   "source": [
    "%timeit s = np.dot(u1,u2)"
   ]
  },
  {
   "cell_type": "markdown",
   "metadata": {},
   "source": [
    "**A operação foi quantas vezes mais rápida?**"
   ]
  },
  {
   "cell_type": "code",
   "execution_count": null,
   "metadata": {
    "collapsed": false
   },
   "outputs": [],
   "source": []
  },
  {
   "cell_type": "markdown",
   "metadata": {},
   "source": [
    "## Os&nbsp;básicos\n",
    "\n",
    "O objecto principal do módulo NumPy é um array multidimensional homogéneo, em que todos os elementos são do mesmo tipo, indexado por um tuplo de inteiros. As dimensões de um array chamam-se _axes_. Ao número de _axes_ chama-se _rank_ (não confundir com o rank de uma matriz em álgebra).\n",
    "\n",
    "Os arrays NumPy são objectos da classe `ndarray`. Alguns atributos importantes são:\n",
    "* **ndarray.ndim** - devolve o número de _axes_ de um array;\n",
    "* **ndarray.shape** - devolve o número de dimensão de um array como um tuplo. Para uma matrix com _n_ linhas e _m_ colunas, `shape` será `(n,m)';\n",
    "* **ndarray.size** - número total de elementos de um array;\n",
    "* **ndarray.dtype** - devolve o tipo de dados (atenção que o NumPy define tipos próprios como `numpy.int32`, `numpy.int16` e `numpy.float64`)\n",
    "* **ndarray.itemsize** - o tamanho em _bytes_ de cada elemento do array\n",
    "* **ndarray.nbytes** - o tamanho em _bytes_ do array"
   ]
  },
  {
   "cell_type": "code",
   "execution_count": null,
   "metadata": {
    "collapsed": false
   },
   "outputs": [],
   "source": [
    "import numpy as np\n",
    "m = np.arange(15, dtype='int32').reshape(3,5)\n",
    "m"
   ]
  },
  {
   "cell_type": "code",
   "execution_count": null,
   "metadata": {
    "collapsed": false
   },
   "outputs": [],
   "source": [
    "m.shape"
   ]
  },
  {
   "cell_type": "code",
   "execution_count": null,
   "metadata": {
    "collapsed": false
   },
   "outputs": [],
   "source": [
    "m.ndim"
   ]
  },
  {
   "cell_type": "code",
   "execution_count": null,
   "metadata": {
    "collapsed": false
   },
   "outputs": [],
   "source": [
    "m.size"
   ]
  },
  {
   "cell_type": "code",
   "execution_count": null,
   "metadata": {
    "collapsed": false
   },
   "outputs": [],
   "source": [
    "m.dtype"
   ]
  },
  {
   "cell_type": "code",
   "execution_count": null,
   "metadata": {
    "collapsed": false
   },
   "outputs": [],
   "source": [
    "m.itemsize"
   ]
  },
  {
   "cell_type": "code",
   "execution_count": null,
   "metadata": {
    "collapsed": false
   },
   "outputs": [],
   "source": [
    "m.nbytes"
   ]
  },
  {
   "cell_type": "markdown",
   "metadata": {},
   "source": [
    "A função `Print` mostra um arrays NumPy como se fosse uma matriz, e não uma lista de listas."
   ]
  },
  {
   "cell_type": "code",
   "execution_count": null,
   "metadata": {
    "collapsed": false
   },
   "outputs": [],
   "source": [
    "print (m)"
   ]
  },
  {
   "cell_type": "markdown",
   "metadata": {},
   "source": [
    "## Arrays\n",
    "\n",
    "Um array NumPy pode criar-se de várias maneiras: `arange`, `array`, `zeros`, `ones`, `empty`, `linspace` e outras.\n",
    "\n",
    "### `arange`\n",
    "\n",
    "O `arange` é semelhante ao `range`, mas devolve um array NumPy em vez de uma lista.\n",
    "\n",
    "    vector = np.arange(10)\n",
    "    "
   ]
  },
  {
   "cell_type": "code",
   "execution_count": null,
   "metadata": {
    "collapsed": false
   },
   "outputs": [],
   "source": [
    "vector = np.arange(10)\n",
    "vector"
   ]
  },
  {
   "cell_type": "code",
   "execution_count": null,
   "metadata": {
    "collapsed": false
   },
   "outputs": [],
   "source": [
    "vector.dtype"
   ]
  },
  {
   "cell_type": "markdown",
   "metadata": {},
   "source": [
    "### `array`\n",
    "\n",
    "O `array` transforma os elementos de uma lista num array NumPy.\n",
    "\n",
    "    vector = np.array([2,3,4])\n",
    "    matriz = np.array([[2, 3],[4,5]])\n",
    "\n",
    "**Nota:** o argumento da função `array` deve ser uma lista com os elementos; `np.array(2,3,4)` gera erro!"
   ]
  },
  {
   "cell_type": "code",
   "execution_count": null,
   "metadata": {
    "collapsed": false
   },
   "outputs": [],
   "source": [
    "vector = np.array([2,3,4])\n",
    "vector"
   ]
  },
  {
   "cell_type": "code",
   "execution_count": null,
   "metadata": {
    "collapsed": false
   },
   "outputs": [],
   "source": [
    "matriz = np.array([[2, 3],[4,5]])\n",
    "matriz"
   ]
  },
  {
   "cell_type": "code",
   "execution_count": null,
   "metadata": {
    "collapsed": false
   },
   "outputs": [],
   "source": [
    "matriz = np.array([2,3,4,5]).reshape(2,2)\n",
    "matriz"
   ]
  },
  {
   "cell_type": "markdown",
   "metadata": {},
   "source": [
    "### `zeros`, `ones` e `empty`\n",
    "\n",
    "Normalmente quando cria um array NumPy, os elementos iniciais podem não ser conhecidos à partida (são definidos mais tarde no programa), mas a dimensão do array sim. A biblioteca NumPy dispõe de três funções para criar um array com uma determinada dimensão, com inicializações diferentes:\n",
    "* função `zeros`: todos os elementos do array são inicializados a zero;\n",
    "* função `ones`: todos os elementos do array são inicializados a 1;\n",
    "* função `empty`: todos os elementos do array não são inicializados.\n",
    "\n",
    "A dimensão do array NumPy especifica-se por um tuplo (ou uma lista). Por exemplo `(2,3)` especifica um array com duas linhas e três colunas."
   ]
  },
  {
   "cell_type": "code",
   "execution_count": null,
   "metadata": {
    "collapsed": false
   },
   "outputs": [],
   "source": [
    "matriz_zeros = np.zeros((4,4))\n",
    "matriz_zeros"
   ]
  },
  {
   "cell_type": "code",
   "execution_count": null,
   "metadata": {
    "collapsed": false
   },
   "outputs": [],
   "source": [
    "matriz_ones = np.ones((2,10), dtype=int)\n",
    "matriz_ones"
   ]
  },
  {
   "cell_type": "code",
   "execution_count": null,
   "metadata": {
    "collapsed": false
   },
   "outputs": [],
   "source": [
    "matriz_vazia = np.empty((3,3))\n",
    "matriz_vazia"
   ]
  },
  {
   "cell_type": "markdown",
   "metadata": {},
   "source": [
    "### `linspace` \n",
    "\n",
    "A função `linspace` é parecida com a função `arange`. A diferença é que, em vez de se indicar um incremento, indica-se quantos pontos se querem entre o primeiro e o segundo valor (inclusivé)."
   ]
  },
  {
   "cell_type": "code",
   "execution_count": null,
   "metadata": {
    "collapsed": false
   },
   "outputs": [],
   "source": [
    "np.arange(0,10,2)"
   ]
  },
  {
   "cell_type": "code",
   "execution_count": null,
   "metadata": {
    "collapsed": false
   },
   "outputs": [],
   "source": [
    "np.linspace(0,10,21) # 21 pontos entre 0 e 10 (inclusivé)"
   ]
  },
  {
   "cell_type": "markdown",
   "metadata": {},
   "source": [
    "## Operações&nbsp;elemento-a-elemento\n",
    "\n",
    "Uma das vantagens da utilização de arrays NumPy são as operações algébricas realizadas elemento-a-elemento. Elas são mais eficientes e rápidas que a tradicional solução de iterar sobre todos os seus elementos usando ciclos.\n"
   ]
  },
  {
   "cell_type": "code",
   "execution_count": null,
   "metadata": {
    "collapsed": false
   },
   "outputs": [],
   "source": [
    "v1 = np.array([1,2,3,4])\n",
    "v2 = np.array([2,2,4,4])"
   ]
  },
  {
   "cell_type": "code",
   "execution_count": null,
   "metadata": {
    "collapsed": false
   },
   "outputs": [],
   "source": [
    "v1+v2 "
   ]
  },
  {
   "cell_type": "code",
   "execution_count": null,
   "metadata": {
    "collapsed": false
   },
   "outputs": [],
   "source": [
    "v1-v2"
   ]
  },
  {
   "cell_type": "code",
   "execution_count": null,
   "metadata": {
    "collapsed": false
   },
   "outputs": [],
   "source": [
    "v1**2"
   ]
  },
  {
   "cell_type": "code",
   "execution_count": null,
   "metadata": {
    "collapsed": false
   },
   "outputs": [],
   "source": [
    "10*v1"
   ]
  },
  {
   "cell_type": "code",
   "execution_count": null,
   "metadata": {
    "collapsed": false
   },
   "outputs": [],
   "source": [
    "np.sin(v2)"
   ]
  },
  {
   "cell_type": "code",
   "execution_count": null,
   "metadata": {
    "collapsed": false
   },
   "outputs": [],
   "source": [
    "v1<3"
   ]
  },
  {
   "cell_type": "markdown",
   "metadata": {
    "collapsed": true
   },
   "source": [
    "### Produto\n",
    "\n",
    "O produto entre arrays NumPy usando o operador `*` realiza uma multiplicação elemento-a-elemento. Para realizar o produto matricial deve ser usado o operador `dot`."
   ]
  },
  {
   "cell_type": "code",
   "execution_count": null,
   "metadata": {
    "collapsed": false
   },
   "outputs": [],
   "source": [
    "# multiplicação elemento-a-elemento\n",
    "v1*v2"
   ]
  },
  {
   "cell_type": "code",
   "execution_count": null,
   "metadata": {
    "collapsed": false
   },
   "outputs": [],
   "source": [
    "# produto interno de v1 por v2\n",
    "np.dot(v1,v2)"
   ]
  },
  {
   "cell_type": "code",
   "execution_count": null,
   "metadata": {
    "collapsed": false
   },
   "outputs": [],
   "source": [
    "# alternativa para o produto interno de v1 por v2\n",
    "v1.dot(v2)"
   ]
  },
  {
   "cell_type": "code",
   "execution_count": null,
   "metadata": {
    "collapsed": false
   },
   "outputs": [],
   "source": [
    "m1 = np.array([[2,3],[1,1]])\n",
    "print (m1)"
   ]
  },
  {
   "cell_type": "code",
   "execution_count": null,
   "metadata": {
    "collapsed": false
   },
   "outputs": [],
   "source": [
    "m2 = np.array([[1,0],[1,2]])\n",
    "print (m2)"
   ]
  },
  {
   "cell_type": "code",
   "execution_count": null,
   "metadata": {
    "collapsed": false
   },
   "outputs": [],
   "source": [
    "print (m1*m2)"
   ]
  },
  {
   "cell_type": "code",
   "execution_count": null,
   "metadata": {
    "collapsed": false
   },
   "outputs": [],
   "source": [
    "print (m1.dot(m2))"
   ]
  },
  {
   "cell_type": "markdown",
   "metadata": {},
   "source": [
    "**Nota:** Os operadores `+=`, `-=`, `*=` e outros modificam um array em vez de criar um novo."
   ]
  },
  {
   "cell_type": "code",
   "execution_count": null,
   "metadata": {
    "collapsed": false
   },
   "outputs": [],
   "source": [
    "m1 += m2\n",
    "print (m1)"
   ]
  },
  {
   "cell_type": "markdown",
   "metadata": {},
   "source": [
    "### Outras operações úteis\n",
    "\n",
    "Algumas operações operam sobre todos os elementos do array NumPy, independentemente da dimensão. É no entanto possível especificar qual a dimensão sobre qual realizam a operação, usando o argumento _axis_. \n",
    "\n",
    "Operações:\n",
    "* **sum** - soma dos elementos\n",
    "* **max** e **min** - valor do elemento máximo e mínimo\n",
    "* **cumsum** - soma acumulada\n",
    "* **cumprod** - produto acumulado\n",
    "\n",
    "\n"
   ]
  },
  {
   "cell_type": "code",
   "execution_count": null,
   "metadata": {
    "collapsed": false
   },
   "outputs": [],
   "source": [
    "m3 = np.array([[2,3,4],[1,1,0]])\n",
    "print (m3)"
   ]
  },
  {
   "cell_type": "code",
   "execution_count": null,
   "metadata": {
    "collapsed": false
   },
   "outputs": [],
   "source": [
    "m3.sum()"
   ]
  },
  {
   "cell_type": "code",
   "execution_count": null,
   "metadata": {
    "collapsed": false
   },
   "outputs": [],
   "source": [
    "m3.sum(axis=0)"
   ]
  },
  {
   "cell_type": "code",
   "execution_count": null,
   "metadata": {
    "collapsed": false
   },
   "outputs": [],
   "source": [
    "m3.min(axis=1)"
   ]
  },
  {
   "cell_type": "markdown",
   "metadata": {},
   "source": [
    "## Funções&nbsp;universais\n",
    "\n",
    "\n",
    "O NumPy oferece um conjunto de funções matemáticas, tais como o `sin`, `cos` e `exp`. Estas funções denominam-se universais, e operam num array elemento-a-elemento resultando num novo array."
   ]
  },
  {
   "cell_type": "code",
   "execution_count": null,
   "metadata": {
    "collapsed": false
   },
   "outputs": [],
   "source": [
    "%pylab inline "
   ]
  },
  {
   "cell_type": "code",
   "execution_count": null,
   "metadata": {
    "collapsed": false
   },
   "outputs": [],
   "source": [
    "t = np.linspace(0,4*np.pi, 1000)\n",
    "y = np.sin(t)\n",
    "plot(t,y)\n",
    "xlabel('x')\n",
    "ylabel('sin(x)')\n",
    "axis('tight')"
   ]
  },
  {
   "cell_type": "markdown",
   "metadata": {},
   "source": [
    "**Outras funções universais:** `all, any, apply_along_axis, argmax, argmin, argsort, average, bincount, ceil, clip, conj, corrcoef, cov, cross, cumprod, cumsum, diff, dot, floor, inner, inv, lexsort, max, maximum, mean, median, min, minimum, nonzero, outer, prod, re, round, sort, std, sum, trace, transpose, var, vdot, vectorize, where`"
   ]
  },
  {
   "cell_type": "markdown",
   "metadata": {},
   "source": [
    "## Índices,&nbsp;slices&nbsp;e&nbsp;iterações\n",
    "\n",
    "Os arrays **unidimensionais** podem ser indexados, iterados e acedidos (slices) tal como as listas.\n",
    "\n",
    "No caso dos arrays **bidimensionais** deve ser indicado um índice por dimensão.\n"
   ]
  },
  {
   "cell_type": "code",
   "execution_count": null,
   "metadata": {
    "collapsed": false
   },
   "outputs": [],
   "source": [
    "def f(x,y): return 10*x+y\n",
    "m = np.fromfunction(f, (5,4), dtype=int)\n",
    "print (m)"
   ]
  },
  {
   "cell_type": "code",
   "execution_count": null,
   "metadata": {
    "collapsed": false
   },
   "outputs": [],
   "source": [
    "m[2,3]"
   ]
  },
  {
   "cell_type": "code",
   "execution_count": null,
   "metadata": {
    "collapsed": false
   },
   "outputs": [],
   "source": [
    "m[0:5,1]"
   ]
  },
  {
   "cell_type": "code",
   "execution_count": null,
   "metadata": {
    "collapsed": false
   },
   "outputs": [],
   "source": [
    "m[:,1]"
   ]
  },
  {
   "cell_type": "code",
   "execution_count": null,
   "metadata": {
    "collapsed": false
   },
   "outputs": [],
   "source": [
    "m[1,:]"
   ]
  },
  {
   "cell_type": "markdown",
   "metadata": {},
   "source": [
    "Quando um índice não é especificado, o Python assume que o índice em falta é o _slice_ completo `:`."
   ]
  },
  {
   "cell_type": "code",
   "execution_count": null,
   "metadata": {
    "collapsed": false
   },
   "outputs": [],
   "source": [
    "m[-1]"
   ]
  },
  {
   "cell_type": "markdown",
   "metadata": {},
   "source": [
    "**NOTA:** Esta notação para aceder aos elementos de um array existente em outras linguagems como o Matlab e o Fortran.\n",
    "Ela é bastante conveniente para aceder a todos os aos elementos de qualquer linha e/ou coluna. Vejamos mais alguns exemplos."
   ]
  },
  {
   "cell_type": "markdown",
   "metadata": {},
   "source": [
    "Devolver a primeira e a última coluna do array (todos os elementos da primeira dimensão, apenas na primeira e última linha):"
   ]
  },
  {
   "cell_type": "code",
   "execution_count": null,
   "metadata": {
    "collapsed": false
   },
   "outputs": [],
   "source": [
    "m[:,[0,-1]]"
   ]
  },
  {
   "cell_type": "markdown",
   "metadata": {},
   "source": [
    "Devolver a primeira e a última linhas:"
   ]
  },
  {
   "cell_type": "code",
   "execution_count": null,
   "metadata": {
    "collapsed": false
   },
   "outputs": [],
   "source": [
    "m[[0,-1],:]"
   ]
  },
  {
   "cell_type": "markdown",
   "metadata": {},
   "source": [
    "Devolver uma matriz com a ordem das colunas invertida:"
   ]
  },
  {
   "cell_type": "code",
   "execution_count": null,
   "metadata": {
    "collapsed": false
   },
   "outputs": [],
   "source": [
    "m[:,::-1]"
   ]
  },
  {
   "cell_type": "markdown",
   "metadata": {},
   "source": [
    "Devolver uma matriz com duas vezes a primeira linha:"
   ]
  },
  {
   "cell_type": "code",
   "execution_count": null,
   "metadata": {
    "collapsed": false
   },
   "outputs": [],
   "source": [
    "m[[0,0],:]"
   ]
  },
  {
   "cell_type": "markdown",
   "metadata": {},
   "source": [
    "### Iterações\n",
    "\n",
    "As iterações sobre um array bidimensional são feitas segundo a primeira dimensão.\n",
    "\n",
    "**Nota: são sempre preferíveis operações algébricas em vez de iterações!**"
   ]
  },
  {
   "cell_type": "code",
   "execution_count": null,
   "metadata": {
    "collapsed": false
   },
   "outputs": [],
   "source": [
    "for linha in m:\n",
    "    print (linha)"
   ]
  },
  {
   "cell_type": "markdown",
   "metadata": {},
   "source": [
    "É possível percorrer todos os elementos de um array usando a função `flat`."
   ]
  },
  {
   "cell_type": "code",
   "execution_count": null,
   "metadata": {
    "collapsed": false
   },
   "outputs": [],
   "source": [
    "for i in m.flat:\n",
    "    print (i),  # a vírgula faz com que o print não mude de linha..."
   ]
  },
  {
   "cell_type": "code",
   "execution_count": null,
   "metadata": {
    "collapsed": false
   },
   "outputs": [],
   "source": [
    "m[:,[1,0]]"
   ]
  },
  {
   "cell_type": "markdown",
   "metadata": {
    "collapsed": true
   },
   "source": [
    "## Alterar&nbsp;as&nbsp;dimensões&nbsp;de&nbsp;um&nbsp;array.\n",
    "\n",
    "As dimensões de um array podem ser alteradas de várias formas: mudando directamente a forma, concatenando vectores e/ou arrays, etc..."
   ]
  },
  {
   "cell_type": "markdown",
   "metadata": {},
   "source": [
    "### ravel\n",
    "\n",
    "A função `ravel` transforma um array num vector:"
   ]
  },
  {
   "cell_type": "code",
   "execution_count": null,
   "metadata": {
    "collapsed": false
   },
   "outputs": [],
   "source": [
    "a = np.random.randint(0,10,size=(3,4))\n",
    "print (a)"
   ]
  },
  {
   "cell_type": "code",
   "execution_count": null,
   "metadata": {
    "collapsed": false
   },
   "outputs": [],
   "source": [
    "print (a.ravel())"
   ]
  },
  {
   "cell_type": "markdown",
   "metadata": {},
   "source": [
    "### reshape e resize\n",
    "\n",
    "A função `reshape` e `resize` permitem mudar as dimensões de um array. As novas dimensões têm de ser concordantes com o número de elementos. A diferença entre as duas é:\n",
    "* a função `reshape` devolve um novo array\n",
    "* a função `resize` muda as dimensões do próprio array\n",
    "\n"
   ]
  },
  {
   "cell_type": "code",
   "execution_count": null,
   "metadata": {
    "collapsed": false
   },
   "outputs": [],
   "source": [
    "a.reshape(2,-1) # -1 o python calcula a outra dimensão de forma automática"
   ]
  },
  {
   "cell_type": "code",
   "execution_count": null,
   "metadata": {
    "collapsed": false
   },
   "outputs": [],
   "source": [
    "a.resize(2,6)\n",
    "print (a)"
   ]
  },
  {
   "cell_type": "code",
   "execution_count": null,
   "metadata": {
    "collapsed": false
   },
   "outputs": [],
   "source": [
    "a"
   ]
  },
  {
   "cell_type": "markdown",
   "metadata": {},
   "source": [
    "### Concatenar \n",
    "\n",
    "Dois arrays podem ser concatenados usando a função `concatenate`. No entanto existem as versões simplificadas `hstack` e `vstack`:"
   ]
  },
  {
   "cell_type": "code",
   "execution_count": null,
   "metadata": {
    "collapsed": false
   },
   "outputs": [],
   "source": [
    "v1 = np.array([2,3,4,5])\n",
    "v1"
   ]
  },
  {
   "cell_type": "code",
   "execution_count": null,
   "metadata": {
    "collapsed": false
   },
   "outputs": [],
   "source": [
    "v2 = np.array([4,4,1,1])\n",
    "v2"
   ]
  },
  {
   "cell_type": "code",
   "execution_count": null,
   "metadata": {
    "collapsed": false
   },
   "outputs": [],
   "source": [
    "hstack((v1,v2))"
   ]
  },
  {
   "cell_type": "code",
   "execution_count": null,
   "metadata": {
    "collapsed": false
   },
   "outputs": [],
   "source": [
    "vstack((v1,v2))"
   ]
  },
  {
   "cell_type": "markdown",
   "metadata": {},
   "source": [
    "### Partir um array\n",
    "\n",
    "É possível partir um array horizontalmente (`hsplit`) ou verticalmente (`vsplit`)."
   ]
  },
  {
   "cell_type": "code",
   "execution_count": null,
   "metadata": {
    "collapsed": false
   },
   "outputs": [],
   "source": [
    "a = np.random.randint(0,10,size=(6,4))\n",
    "print (a)"
   ]
  },
  {
   "cell_type": "code",
   "execution_count": null,
   "metadata": {
    "collapsed": false
   },
   "outputs": [],
   "source": [
    "v1, v2 = vsplit(a,2)"
   ]
  },
  {
   "cell_type": "code",
   "execution_count": null,
   "metadata": {
    "collapsed": false
   },
   "outputs": [],
   "source": [
    "print (v1)"
   ]
  },
  {
   "cell_type": "code",
   "execution_count": null,
   "metadata": {
    "collapsed": false
   },
   "outputs": [],
   "source": [
    "print (v2)"
   ]
  },
  {
   "cell_type": "markdown",
   "metadata": {},
   "source": [
    "## Alguns&nbsp;truques"
   ]
  },
  {
   "cell_type": "markdown",
   "metadata": {},
   "source": [
    "O NumPy permite aceder aos elementos de um array usando como índice outro array."
   ]
  },
  {
   "cell_type": "code",
   "execution_count": null,
   "metadata": {
    "collapsed": false
   },
   "outputs": [],
   "source": [
    "a = arange(1,6)**2\n",
    "print (a)"
   ]
  },
  {
   "cell_type": "code",
   "execution_count": null,
   "metadata": {
    "collapsed": false
   },
   "outputs": [],
   "source": [
    "i = np.array([2,3,2,2,1])\n",
    "print (i)"
   ]
  },
  {
   "cell_type": "code",
   "execution_count": null,
   "metadata": {
    "collapsed": false
   },
   "outputs": [],
   "source": [
    "print (a[i])"
   ]
  },
  {
   "cell_type": "markdown",
   "metadata": {},
   "source": [
    "O mesmo é verdade para o caso bidimensional"
   ]
  },
  {
   "cell_type": "code",
   "execution_count": null,
   "metadata": {
    "collapsed": false
   },
   "outputs": [],
   "source": [
    "m = arange(12).reshape(3,4)\n",
    "print (m)"
   ]
  },
  {
   "cell_type": "code",
   "execution_count": null,
   "metadata": {
    "collapsed": false
   },
   "outputs": [],
   "source": [
    "i = np.array([[0,1],[1,2]])\n",
    "print (i)"
   ]
  },
  {
   "cell_type": "code",
   "execution_count": null,
   "metadata": {
    "collapsed": false
   },
   "outputs": [],
   "source": [
    "j = np.array([[2,1],[3,2]])\n",
    "print (j)"
   ]
  },
  {
   "cell_type": "code",
   "execution_count": null,
   "metadata": {
    "collapsed": false
   },
   "outputs": [],
   "source": [
    "print (m[i,j])"
   ]
  },
  {
   "cell_type": "markdown",
   "metadata": {},
   "source": [
    "É possível usar booleanos para indexar dentro de um array."
   ]
  },
  {
   "cell_type": "code",
   "execution_count": null,
   "metadata": {
    "collapsed": false
   },
   "outputs": [],
   "source": [
    "m = arange(12).reshape(3,4)\n",
    "print (m)"
   ]
  },
  {
   "cell_type": "code",
   "execution_count": null,
   "metadata": {
    "collapsed": false
   },
   "outputs": [],
   "source": [
    "b = m>4\n",
    "print (b)"
   ]
  },
  {
   "cell_type": "code",
   "execution_count": null,
   "metadata": {
    "collapsed": false
   },
   "outputs": [],
   "source": [
    "m[b]"
   ]
  },
  {
   "cell_type": "code",
   "execution_count": null,
   "metadata": {
    "collapsed": false
   },
   "outputs": [],
   "source": [
    "m[b>4] = 0\n",
    "print (m)"
   ]
  },
  {
   "cell_type": "markdown",
   "metadata": {},
   "source": [
    "## Operações&nbsp;algébricas\n",
    "\n",
    "As operações algébricas são preferíveis a iterações sobre os elementos de um array. Muitas operações encontram-se na biblioteca `numpy.linalg`: calcular inversa, a norma, valores e vectores próprios etc..."
   ]
  },
  {
   "cell_type": "markdown",
   "metadata": {},
   "source": [
    "### Transposta"
   ]
  },
  {
   "cell_type": "code",
   "execution_count": null,
   "metadata": {
    "collapsed": false
   },
   "outputs": [],
   "source": [
    "a = arange(12).reshape(3,4)\n",
    "print (a)"
   ]
  },
  {
   "cell_type": "code",
   "execution_count": null,
   "metadata": {
    "collapsed": false
   },
   "outputs": [],
   "source": [
    "print (a.T) # ou a.transpose()"
   ]
  },
  {
   "cell_type": "markdown",
   "metadata": {},
   "source": [
    "### Matriz inversa"
   ]
  },
  {
   "cell_type": "code",
   "execution_count": null,
   "metadata": {
    "collapsed": true
   },
   "outputs": [],
   "source": [
    "a = np.array([[1,3],[2,4]])"
   ]
  },
  {
   "cell_type": "code",
   "execution_count": null,
   "metadata": {
    "collapsed": false
   },
   "outputs": [],
   "source": [
    "np.linalg.inv(a)"
   ]
  },
  {
   "cell_type": "markdown",
   "metadata": {},
   "source": [
    "### Matriz identidade"
   ]
  },
  {
   "cell_type": "code",
   "execution_count": null,
   "metadata": {
    "collapsed": false
   },
   "outputs": [],
   "source": [
    "a = np.eye(4)\n",
    "print (a)"
   ]
  },
  {
   "cell_type": "markdown",
   "metadata": {},
   "source": [
    "### Produto matricial\n",
    "\n",
    "O produto matricial obtém-se usando a função `dot`. "
   ]
  },
  {
   "cell_type": "code",
   "execution_count": null,
   "metadata": {
    "collapsed": false
   },
   "outputs": [],
   "source": [
    "a = np.array([[2,3],[1,0]])\n",
    "print (a)"
   ]
  },
  {
   "cell_type": "code",
   "execution_count": null,
   "metadata": {
    "collapsed": false
   },
   "outputs": [],
   "source": [
    "b = np.array([[2,2],[1,-1]])\n",
    "print (b)"
   ]
  },
  {
   "cell_type": "code",
   "execution_count": null,
   "metadata": {
    "collapsed": false
   },
   "outputs": [],
   "source": [
    "print (a.dot(b))"
   ]
  },
  {
   "cell_type": "code",
   "execution_count": null,
   "metadata": {
    "collapsed": false
   },
   "outputs": [],
   "source": [
    "print (np.dot(a,b))"
   ]
  },
  {
   "cell_type": "markdown",
   "metadata": {},
   "source": [
    "### Traço de uma matriz"
   ]
  },
  {
   "cell_type": "code",
   "execution_count": null,
   "metadata": {
    "collapsed": false
   },
   "outputs": [],
   "source": [
    "np.trace(a.dot(b))"
   ]
  },
  {
   "cell_type": "markdown",
   "metadata": {},
   "source": [
    "### Norma de um array\n",
    "\n",
    "A norma de um array e/ou vector obtém-se recorrendo à função `numpy.linalg.norm`."
   ]
  },
  {
   "cell_type": "code",
   "execution_count": null,
   "metadata": {
    "collapsed": true
   },
   "outputs": [],
   "source": [
    "v = np.array([2,3])"
   ]
  },
  {
   "cell_type": "markdown",
   "metadata": {},
   "source": [
    "** Norma $L_1$ **"
   ]
  },
  {
   "cell_type": "code",
   "execution_count": null,
   "metadata": {
    "collapsed": false
   },
   "outputs": [],
   "source": [
    "np.linalg.norm(v,1)"
   ]
  },
  {
   "cell_type": "markdown",
   "metadata": {},
   "source": [
    "** Norma $L_2$ **"
   ]
  },
  {
   "cell_type": "code",
   "execution_count": null,
   "metadata": {
    "collapsed": false
   },
   "outputs": [],
   "source": [
    "np.linalg.norm(v)"
   ]
  },
  {
   "cell_type": "code",
   "execution_count": null,
   "metadata": {
    "collapsed": false
   },
   "outputs": [],
   "source": [
    "np.linalg.norm(v,2)"
   ]
  },
  {
   "cell_type": "markdown",
   "metadata": {},
   "source": [
    "** Frobenius norm **"
   ]
  },
  {
   "cell_type": "code",
   "execution_count": null,
   "metadata": {
    "collapsed": false
   },
   "outputs": [],
   "source": [
    "m = arange(6).reshape(2,3)\n",
    "print (m)"
   ]
  },
  {
   "cell_type": "code",
   "execution_count": null,
   "metadata": {
    "collapsed": false
   },
   "outputs": [],
   "source": [
    "np.linalg.norm(m, 'fro')"
   ]
  }
 ],
 "metadata": {
  "kernelspec": {
   "display_name": "Python 3",
   "language": "python",
   "name": "python3"
  },
  "language_info": {
   "codemirror_mode": {
    "name": "ipython",
    "version": 3
   },
   "file_extension": ".py",
   "mimetype": "text/x-python",
   "name": "python",
   "nbconvert_exporter": "python",
   "pygments_lexer": "ipython3",
   "version": "3.4.5"
  }
 },
 "nbformat": 4,
 "nbformat_minor": 0
}
