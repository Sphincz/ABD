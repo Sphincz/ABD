{
 "cells": [
  {
   "cell_type": "markdown",
   "metadata": {},
   "source": [
    "## Comandos simples e ambiente de trabalho\n",
    "\n",
    "O `python` é referido uma linguagem de _scripting_ (_scripting language_), mas na verdade é uma linguagem de programação dinâmica de uso geral (_dynanic high-level general-purpose languages_). Uma das suas vantagens é ser uma linguagem interpretada, o que permite iterativamente introduzir comandos e saber o resultado após a sua execução."
   ]
  },
  {
   "cell_type": "markdown",
   "metadata": {},
   "source": [
    "### Instruções simples\n",
    "Experimente as seguintes instruções simples:\n",
    "\n",
    "    1+1\n",
    "    4+2*3\n",
    "    x = 2\n",
    "    y = 3\n",
    "    z = x+y\n",
    "    print(z)\n",
    "    print(\"Hello world\")"
   ]
  },
  {
   "cell_type": "code",
   "execution_count": null,
   "metadata": {
    "collapsed": false
   },
   "outputs": [],
   "source": [
    "1+1"
   ]
  },
  {
   "cell_type": "code",
   "execution_count": null,
   "metadata": {
    "collapsed": false
   },
   "outputs": [],
   "source": [
    "4+2*4"
   ]
  },
  {
   "cell_type": "code",
   "execution_count": null,
   "metadata": {
    "collapsed": true
   },
   "outputs": [],
   "source": [
    "x=2"
   ]
  },
  {
   "cell_type": "code",
   "execution_count": null,
   "metadata": {
    "collapsed": true
   },
   "outputs": [],
   "source": [
    "y=3"
   ]
  },
  {
   "cell_type": "code",
   "execution_count": null,
   "metadata": {
    "collapsed": true
   },
   "outputs": [],
   "source": [
    "z=x+y"
   ]
  },
  {
   "cell_type": "code",
   "execution_count": null,
   "metadata": {
    "collapsed": false
   },
   "outputs": [],
   "source": [
    "print(z)"
   ]
  },
  {
   "cell_type": "code",
   "execution_count": null,
   "metadata": {
    "collapsed": false,
    "scrolled": true
   },
   "outputs": [],
   "source": [
    "print(\"Hello world\")"
   ]
  },
  {
   "cell_type": "markdown",
   "metadata": {},
   "source": [
    "### Command history\n",
    "\n",
    "Todos os comandos introduzidos iterativamente e o resultado das suas execuções ficam guardandos nas variáveis `In` e `Out`. É possível por isso usá-los posteriormente recorrendo às variáveis \\_, \\_\\_ e \\_\\_\\_, para os três últimos resultados, e \\_i, \\_ii e \\_iii para os três últimos comandos."
   ]
  },
  {
   "cell_type": "code",
   "execution_count": null,
   "metadata": {
    "collapsed": false
   },
   "outputs": [],
   "source": [
    "10*1.23"
   ]
  },
  {
   "cell_type": "code",
   "execution_count": null,
   "metadata": {
    "collapsed": false
   },
   "outputs": [],
   "source": [
    "_ + 10"
   ]
  },
  {
   "cell_type": "markdown",
   "metadata": {},
   "source": [
    "### Tab completion\n",
    "\n",
    "Uma das melhores funcionalidades é o _tab completion_. Ele permite completar a escrita de um comando, e nos casos em que há mais do que uma hipótese, ele mostra a lista de possíveis comandos. Também funciona para nomes de directorias e ficheiros.\n",
    "\n",
    "Experimente escrever `pri` e carregue de seguida na tecla `tab`."
   ]
  },
  {
   "cell_type": "code",
   "execution_count": null,
   "metadata": {
    "collapsed": true
   },
   "outputs": [],
   "source": []
  },
  {
   "cell_type": "markdown",
   "metadata": {},
   "source": [
    "### Informação detalhada sobre os objectos definidos\n",
    "\n",
    "É possível visualizar quais os objectos definidos no workspace através do comando `whos`."
   ]
  },
  {
   "cell_type": "code",
   "execution_count": null,
   "metadata": {
    "collapsed": false
   },
   "outputs": [],
   "source": [
    "whos"
   ]
  },
  {
   "cell_type": "markdown",
   "metadata": {},
   "source": [
    "### Apagar uma variável\n",
    "\n",
    "Para apagar uma variável e/ou objecto, use o comando `del`. Por exemplo para apagar a variável `x` execute o comando `del x`."
   ]
  },
  {
   "cell_type": "code",
   "execution_count": null,
   "metadata": {
    "collapsed": true
   },
   "outputs": [],
   "source": [
    "del x"
   ]
  },
  {
   "cell_type": "code",
   "execution_count": null,
   "metadata": {
    "collapsed": false
   },
   "outputs": [],
   "source": [
    "whos"
   ]
  },
  {
   "cell_type": "markdown",
   "metadata": {},
   "source": [
    "###   Limpar o workspace\n",
    "\n",
    "É possível apagar todas as variáveis e funções definidas e/ou importadas de uma só vez através do comando `%reset`. A opção `-f` não pede confirmação.\n",
    "\n",
    "    %reset -f\n",
    "    %reset"
   ]
  },
  {
   "cell_type": "code",
   "execution_count": null,
   "metadata": {
    "collapsed": false
   },
   "outputs": [],
   "source": [
    "%reset -f"
   ]
  },
  {
   "cell_type": "code",
   "execution_count": null,
   "metadata": {
    "collapsed": false
   },
   "outputs": [],
   "source": [
    "whos"
   ]
  },
  {
   "cell_type": "markdown",
   "metadata": {},
   "source": [
    "### Obter ajuda sobre um comando\n",
    "Para obter ajuda sobre um comando pode usar-se o `?` a seguir ao mesmo. Por exemplo: `whos?`\n",
    "\n",
    "Existem também os comandos `help()` e o `dir()`. Nota: o comando `dir()` lista os métodos de um determinado objecto (ou instância)."
   ]
  },
  {
   "cell_type": "code",
   "execution_count": null,
   "metadata": {
    "collapsed": true
   },
   "outputs": [],
   "source": [
    "whos?"
   ]
  },
  {
   "cell_type": "markdown",
   "metadata": {},
   "source": [
    "### Magic commands\n",
    "Existem uma série de comandos denominados \"mágicos\" (_magic commands_) que começam pelo carácter `%`. \n",
    "Para obter a lista de comandos disponíveis introduza `%lsmagic`.\n",
    "Para mais informações em geral digite o comando `%magic`."
   ]
  },
  {
   "cell_type": "markdown",
   "metadata": {},
   "source": [
    "Um comando _magic_ introduzido numa única linha deve começar pelo carácter `%` (_line magic_). No caso de um comando com várias linhas, deve usar-se `%%` (_cell magic_).\n",
    "\n",
    "Alguns comandos úteis:\n",
    "\n",
    "- `%env`: mostra a lista de variáveis de ambiente\n",
    "- `!`: executa um comando de `shell`. Exemplo: `! ls -l`\n",
    "- `%matplotlib inline`: mostra os gráficos do módulo `matplotlib` no próprio notebook\n",
    "- `%pylab inline`: carrega o módulo `numpy` (como `np`) e o móculo `matplotlib` \"inline\"\n",
    "- `%bash`: executa uma célula como um processo `bash`\n",
    "- `%time`: avalia o tempo de execução de um comando\n",
    "- `%%latex`: interpreta a célula como latex\n",
    "- `%timeit`: avalia o tempo de execução de um comando várias vezes, e mostra o tempo médio\n",
    "- `%prun`, `%lprun`, `%mprun`: mostra o tempo de execução e memória usada de forma mais detalhada. Para mais informações pode consultar este [tutorial](http://pynash.org/2013/03/06/timing-and-profiling/). \n",
    "- `%reset`: apaga as variáveis do _workspace_\n",
    "- `%bookmark`: (permite guardar uma localização do disco, i.e. a directoria actual, para usar mais tarde)\n",
    "- `%hist -o`: (history: devolve a lista de comandos executados)\n"
   ]
  },
  {
   "cell_type": "code",
   "execution_count": null,
   "metadata": {
    "collapsed": false
   },
   "outputs": [],
   "source": [
    "%lsmagic"
   ]
  },
  {
   "cell_type": "markdown",
   "metadata": {},
   "source": [
    "### Executar um script em Python\n",
    "\n",
    "O conjunto de vários comandos podem ser guardados num ficheiro com a extensão `.py` e executados posteriormente. Para executar os comandos guardados neste ficheiro, a que chamaremos de _script_, usa-se o comando `run` seguido do nome do ficheiro.\n",
    "\n",
    "A título de exemplo, execute o comando `run script1.py`. O ficheiro `script1.py` contém o seguinte conteúdo:\n",
    "\n",
    "    x = 10\n",
    "    y = x**2\n",
    "    print (\"x = %d, e y = %d\" %(x,y))\n",
    "    "
   ]
  },
  {
   "cell_type": "code",
   "execution_count": null,
   "metadata": {
    "collapsed": false
   },
   "outputs": [],
   "source": [
    "run script1.py"
   ]
  },
  {
   "cell_type": "markdown",
   "metadata": {},
   "source": [
    "### Profiling\n",
    "\n",
    "O `python` dispõe de um conjunto de ferramentes de _profiling_. São elas:\n",
    "\n",
    "    %timeit\n",
    "    %run -t\n",
    "    %prun (ou %run -p)"
   ]
  },
  {
   "cell_type": "code",
   "execution_count": null,
   "metadata": {
    "collapsed": false
   },
   "outputs": [],
   "source": [
    "%timeit [x*x for x in range(100000)]"
   ]
  },
  {
   "cell_type": "code",
   "execution_count": null,
   "metadata": {
    "collapsed": false
   },
   "outputs": [],
   "source": [
    "%run -t script1.py"
   ]
  },
  {
   "cell_type": "code",
   "execution_count": null,
   "metadata": {
    "collapsed": false
   },
   "outputs": [],
   "source": [
    "%run -p script1.py"
   ]
  },
  {
   "cell_type": "markdown",
   "metadata": {},
   "source": [
    "### Módulos\n",
    "\n",
    "Os ficheiros `python`, com a extensão `.py` chamam-se na verdade _módulos_. A estrutura interna dos módulos deve obedecer a um conjunto de regras. Sem entrar em grandes detalhes, os módulos podem conter várias funções. É possível _importar_ todas as funções de um módulo, ou apenas algumas, usando o comando `import`.\n",
    "\n",
    "Alguns módulos existem já pré-definidos no sistema prontos a serem usados. A título de exemplo considerem-se os módulos `sys`, `re` e `os`, que contêm um conjunto útil de funções. Para importar todas as funções do módulo `os` usa-se o comando `import os`. Para usar uma determinada função do módulo `os`, deve escrever-se o nome do módulo, ponto e o nome da função:\n",
    "\n",
    "    os.name"
   ]
  },
  {
   "cell_type": "code",
   "execution_count": null,
   "metadata": {
    "collapsed": false
   },
   "outputs": [],
   "source": [
    "import os\n",
    "os.name"
   ]
  },
  {
   "cell_type": "markdown",
   "metadata": {},
   "source": [
    "É possível importar apenas uma função, ou até todas as funções para o ambiente de trabalho:\n",
    "\n",
    "    from numpy import *\n",
    "    \n",
    "É também possível importar as funções com outro nome:\n",
    "   \n",
    "    import numpy as np\n",
    "\n",
    "(mais à frente serão ilustrados os diferentes usos do comando `import`) "
   ]
  },
  {
   "cell_type": "markdown",
   "metadata": {},
   "source": [
    "### Criar um ficheiro\n",
    "\n",
    "O comando `%%file` permite criar um ficheiro de texto."
   ]
  },
  {
   "cell_type": "code",
   "execution_count": null,
   "metadata": {
    "collapsed": false
   },
   "outputs": [],
   "source": [
    "%%file teste.txt\n",
    "Este texto vai parar a um ficheiro de texto chamado teste.txt\n",
    "\n",
    "E o ficheiro pode ter muitas linhas.\n",
    "\n",
    "\n",
    "E aqui fica o fim do ficheiro."
   ]
  },
  {
   "cell_type": "markdown",
   "metadata": {},
   "source": [
    "### importar\n",
    "\n",
    "    from sys import argv, exit\n",
    "    \n",
    "Outros importantes: `sys`, `re` e `os`\n",
    "\n"
   ]
  },
  {
   "cell_type": "markdown",
   "metadata": {},
   "source": [
    "### Guardar o workspace\n",
    "O espaço de trabalho, isto é as variáveis, pode ser gravado através do módulo `pickle`. Alternativamente pode também ser usado o módulo `shelve`."
   ]
  }
 ],
 "metadata": {
  "kernelspec": {
   "display_name": "Python 3",
   "language": "python",
   "name": "python3"
  },
  "language_info": {
   "codemirror_mode": {
    "name": "ipython",
    "version": 3
   },
   "file_extension": ".py",
   "mimetype": "text/x-python",
   "name": "python",
   "nbconvert_exporter": "python",
   "pygments_lexer": "ipython3",
   "version": "3.5.2"
  }
 },
 "nbformat": 4,
 "nbformat_minor": 0
}
