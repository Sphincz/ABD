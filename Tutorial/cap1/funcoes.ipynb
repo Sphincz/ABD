{
 "cells": [
  {
   "cell_type": "markdown",
   "metadata": {},
   "source": [
    "# Funções\n",
    "\n",
    "* [Declaração](#Declaração)\n",
    "* [Instrução pass](#Instrução&nbsp;pass)\n",
    "* [Argumentos](#Argumentos)\n",
    "* [Funções anónimas](#Funções&nbsp;anónimas)"
   ]
  },
  {
   "cell_type": "markdown",
   "metadata": {},
   "source": [
    "## Declaração\n",
    "\n",
    "As funções definem-se com a instrução `def` seguida do nome da função e os argumentos. Se a função devolver algum valor, usa-se no corpo da função a instrução `return`. Se se definir uma `string` como primeira instrução ela será usada como documentação da função.\n",
    "\n",
    "Como exemplo considere a seguinte função que calcula a soma de dois números:\n",
    "\n",
    "    def fib(n):    # write Fibonacci series up to n\n",
    "       \"\"\"Print a Fibonacci series up to n.\"\"\"\n",
    "       a, b = 0, 1\n",
    "       while a < n:\n",
    "         print (a,\"\", end='')\n",
    "         a, b = b, a+b\n",
    "        "
   ]
  },
  {
   "cell_type": "code",
   "execution_count": null,
   "metadata": {
    "collapsed": false
   },
   "outputs": [],
   "source": [
    "def fib(n):    # write Fibonacci series up to n\n",
    "   \"\"\"Print a Fibonacci series up to n.\"\"\"\n",
    "   a, b = 0, 1\n",
    "   while a < n:\n",
    "     print (a,\"\", end='')\n",
    "     a, b = b, a+b\n"
   ]
  },
  {
   "cell_type": "code",
   "execution_count": null,
   "metadata": {
    "collapsed": false
   },
   "outputs": [],
   "source": [
    "fib(1000)"
   ]
  },
  {
   "cell_type": "code",
   "execution_count": null,
   "metadata": {
    "collapsed": true
   },
   "outputs": [],
   "source": [
    "def soma(x,y):\n",
    "    \"\"\"A função soma devolve a soma dos argumentos.\"\"\"\n",
    "    return x+y"
   ]
  },
  {
   "cell_type": "code",
   "execution_count": null,
   "metadata": {
    "collapsed": false
   },
   "outputs": [],
   "source": [
    "soma(10,20)"
   ]
  },
  {
   "cell_type": "markdown",
   "metadata": {},
   "source": [
    "As funções em `python` devolvem apenas um valor. No entanto este pode ser um tuplo, uma lista ou até um dicionário!\n",
    "\n",
    "    def quadrados_ate_n(n):\n",
    "        return [i**2 for i in range(n)]"
   ]
  },
  {
   "cell_type": "code",
   "execution_count": null,
   "metadata": {
    "collapsed": false
   },
   "outputs": [],
   "source": [
    "def quadrados_ate_n(n):\n",
    "    return [(i,i**2) for i in range(1,n+1)]"
   ]
  },
  {
   "cell_type": "code",
   "execution_count": null,
   "metadata": {
    "collapsed": false
   },
   "outputs": [],
   "source": [
    "quadrados_ate_n(4)"
   ]
  },
  {
   "cell_type": "markdown",
   "metadata": {},
   "source": [
    "## Instrução pass\n",
    "\n",
    "Por vezes pode ser necessário definir a função embora o seu conteúdo seja definido posteriormente. Isso pode ser feito usando a instrução `pass` no corpo da função:\n",
    "\n",
    "    def nao_faz_nada():\n",
    "        pass"
   ]
  },
  {
   "cell_type": "code",
   "execution_count": null,
   "metadata": {
    "collapsed": true
   },
   "outputs": [],
   "source": [
    "def nao_faz_nada():\n",
    "    pass"
   ]
  },
  {
   "cell_type": "code",
   "execution_count": null,
   "metadata": {
    "collapsed": false
   },
   "outputs": [],
   "source": [
    "nao_faz_nada()"
   ]
  },
  {
   "cell_type": "markdown",
   "metadata": {},
   "source": [
    "## Argumentos\n",
    "\n",
    "As funções em `python` podem receber vários argumentos opcionalmente. Isso faz-se definindo o nome da variável e o valor que a mesma toma por defeito.\n",
    "\n",
    "    def varios(x, y=10, z=20):\n",
    "        print(\"x=%d, y=%d, z=%d\" %(x,y,z))"
   ]
  },
  {
   "cell_type": "code",
   "execution_count": null,
   "metadata": {
    "collapsed": true
   },
   "outputs": [],
   "source": [
    "def varios(x, y=10, z=20):\n",
    "    print (\"x=%d, y=%d, z=%d\" %(x,y,z))"
   ]
  },
  {
   "cell_type": "code",
   "execution_count": null,
   "metadata": {
    "collapsed": false
   },
   "outputs": [],
   "source": [
    "varios(2)"
   ]
  },
  {
   "cell_type": "code",
   "execution_count": null,
   "metadata": {
    "collapsed": false
   },
   "outputs": [],
   "source": [
    "varios(2,4)"
   ]
  },
  {
   "cell_type": "code",
   "execution_count": null,
   "metadata": {
    "collapsed": false
   },
   "outputs": [],
   "source": [
    "varios(2,z=1)"
   ]
  },
  {
   "cell_type": "code",
   "execution_count": null,
   "metadata": {
    "collapsed": false
   },
   "outputs": [],
   "source": [
    "print(\"ola\", \"tudo bem\")"
   ]
  },
  {
   "cell_type": "markdown",
   "metadata": {},
   "source": [
    "Também é possível receber um número variável de argumentos (e respectivas _keywords_). O exemplo seguinte, retirado da documentação do `python`, ilustra esse caso. Mais detalhes consulte a [documentação do `python`](https://docs.python.org/2/tutorial/controlflow.html#keyword-arguments).\n",
    "\n",
    "    def cheeseshop(kind, *arguments, **keywords):\n",
    "        print(\"-- Do you have any\", kind, \"?\")\n",
    "        print(\"-- I'm sorry, we're all out of\", kind)\n",
    "        for arg in arguments:\n",
    "            print(arg)\n",
    "        print(\"-\" * 40)\n",
    "        keys = sorted(keywords.keys())\n",
    "        for kw in keys:\n",
    "            print (kw, \":\", keywords[kw])\n",
    "            \n",
    "Experimente chamar a função com os seguintes argumentos:\n",
    "\n",
    "    cheeseshop(\"Limburger\", \"It's very runny, sir.\",\n",
    "           \"It's really very, VERY runny, sir.\",\n",
    "           shopkeeper='Michael Palin',\n",
    "           client=\"John Cleese\",\n",
    "           sketch=\"Cheese Shop Sketch\")"
   ]
  },
  {
   "cell_type": "markdown",
   "metadata": {},
   "source": [
    "## Funções anónimas\n",
    "\n",
    "O `python` permite definir funções anónimas usando a _keyword_ `lambda`. O exemplo seguinte ilustra o uso de uma função anónima.\n",
    "\n",
    "    sqr = lambda x: x**2\n",
    "\n"
   ]
  },
  {
   "cell_type": "code",
   "execution_count": null,
   "metadata": {
    "collapsed": true
   },
   "outputs": [],
   "source": [
    "sqr = lambda x: x**2"
   ]
  },
  {
   "cell_type": "code",
   "execution_count": null,
   "metadata": {
    "collapsed": false
   },
   "outputs": [],
   "source": [
    "sqr(5)"
   ]
  },
  {
   "cell_type": "markdown",
   "metadata": {},
   "source": [
    "O exemplo seguinte define uma função que devolve uma função!"
   ]
  },
  {
   "cell_type": "code",
   "execution_count": null,
   "metadata": {
    "collapsed": true
   },
   "outputs": [],
   "source": [
    "def make_incrementor(n):\n",
    "    return lambda x: x + n"
   ]
  },
  {
   "cell_type": "code",
   "execution_count": null,
   "metadata": {
    "collapsed": false
   },
   "outputs": [],
   "source": [
    "incrementa4 = make_incrementor(4)"
   ]
  },
  {
   "cell_type": "code",
   "execution_count": null,
   "metadata": {
    "collapsed": false
   },
   "outputs": [],
   "source": [
    "incrementa4(5)"
   ]
  },
  {
   "cell_type": "markdown",
   "metadata": {},
   "source": [
    "O uso de funções anónimas é bastante útil por exemplo na ordenação de valores. As diferentes funções `sort` pedem por vezes a função usada para ordenar uma série de valores. O exemplo seguinte, retirado da documentação, ilustra esse caso: uma lista de tuplos, é ordenada pela segunda letra do segundo elemento dos tuplos:\n",
    "\n",
    "    pairs = [(1, 'one'), (2, 'two'), (3, 'three'), (4, 'four')]\n",
    "    pairs.sort(key=lambda pair: pair[1])\n",
    "    pairs"
   ]
  },
  {
   "cell_type": "code",
   "execution_count": null,
   "metadata": {
    "collapsed": false
   },
   "outputs": [],
   "source": [
    "pairs = [(1, 'one'), (2, 'two'), (3, 'three'), (4, 'four')]\n",
    "pairs.sort(key=lambda pair: pair[1])\n",
    "pairs"
   ]
  }
 ],
 "metadata": {
  "kernelspec": {
   "display_name": "Python 3",
   "language": "python",
   "name": "python3"
  },
  "language_info": {
   "codemirror_mode": {
    "name": "ipython",
    "version": 3
   },
   "file_extension": ".py",
   "mimetype": "text/x-python",
   "name": "python",
   "nbconvert_exporter": "python",
   "pygments_lexer": "ipython3",
   "version": "3.4.5"
  }
 },
 "nbformat": 4,
 "nbformat_minor": 0
}
