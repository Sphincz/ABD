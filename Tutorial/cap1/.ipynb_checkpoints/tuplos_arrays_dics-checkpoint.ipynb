{
 "cells": [
  {
   "cell_type": "markdown",
   "metadata": {},
   "source": [
    "# Sequências, Tuplos, dicionários e sets\n",
    "\n",
    "O `python` dispõe de várias estruturas de dados. Revêm-se algumas das mais usadas assim como técnicas para iterar sobre elementos guardados em estruturas.\n",
    "\n",
    "* [Sequências](#Sequências ou listas)\n",
    "* [Tuplos](#Tuplos)\n",
    "* [Dicionários](#Dicionários)\n",
    "* [Sets](#Sets)\n",
    "\n"
   ]
  },
  {
   "cell_type": "markdown",
   "metadata": {},
   "source": [
    "## Sequências ou listas\n",
    "A estrutura de dados mais básica em `python` é uma sequência (ou lista). A cada elemento da sequência é atribuído um número: a sua posição (ou índice) na sequência. As posições começam em zero.\n",
    "\n",
    "Uma lista é criada com os elementos separados por vírgula, dentro de parêntesis rectos `[ ]`:\n",
    "\n",
    "    lista1 = ['machine', 'learning', 2016]\n",
    "    lista2 = [1,2,3,4]\n",
    "       \n",
    "#### Acesso aos elementos da lista\n",
    "\n",
    "O acesso aos elementos de uma lista faz-se usando os parêntesis rectos `[  ]`, e aplicam-se as regras de _slicing_ para strings:\n",
    "    \n",
    "    lista1[1]\n",
    "    lista2[-2]\n",
    "\n",
    "Para modificar um elemento da lista, usam-se as regras de _slicing_:\n",
    "\n",
    "    lista1[2] = 'is the best'\n",
    "    \n",
    "Para apagar um elemento, pode usar-se o comando `del`:\n",
    "    \n",
    "    del lista1[2]\n",
    "\n",
    "#### Operações básicas\n",
    "Existem as operações básicas `+` (concatenação) e `*` (repetição), que resultam numa nova lista.\n",
    "    \n",
    "    ['machine'] * 3\n",
    "    [1,2,3] + [4,5,6]\n"
   ]
  },
  {
   "cell_type": "code",
   "execution_count": null,
   "metadata": {
    "collapsed": true
   },
   "outputs": [],
   "source": [
    "lista1 = ['machine', 'learning', 2016]"
   ]
  },
  {
   "cell_type": "code",
   "execution_count": null,
   "metadata": {
    "collapsed": true
   },
   "outputs": [],
   "source": [
    "lista2 = [1,2,3,4]"
   ]
  },
  {
   "cell_type": "code",
   "execution_count": null,
   "metadata": {
    "collapsed": true
   },
   "outputs": [],
   "source": [
    "lista1[1]"
   ]
  },
  {
   "cell_type": "code",
   "execution_count": null,
   "metadata": {
    "collapsed": true
   },
   "outputs": [],
   "source": [
    "lista2[-2]"
   ]
  },
  {
   "cell_type": "code",
   "execution_count": null,
   "metadata": {
    "collapsed": true
   },
   "outputs": [],
   "source": [
    "lista1[2] = 'is the best'"
   ]
  },
  {
   "cell_type": "code",
   "execution_count": null,
   "metadata": {
    "collapsed": true
   },
   "outputs": [],
   "source": [
    "lista1"
   ]
  },
  {
   "cell_type": "code",
   "execution_count": null,
   "metadata": {
    "collapsed": true
   },
   "outputs": [],
   "source": [
    "del lista1[2]"
   ]
  },
  {
   "cell_type": "markdown",
   "metadata": {},
   "source": [
    "## Tuplos\n",
    "Um tuplo é uma sequência de objectos **imutáveis**. Os tuplos são sequências tais como as listas. As diferenças entre ambos são que os elementos dos tuplos não podem ser mudados, e os tuplos são criados com parêntesis curvos `(  )`:\n",
    "\n",
    "    tup1 = ('big', 'data', 2016)\n",
    "    tup2 = (1,2,3,4,5,6)\n",
    "    \n",
    "#### Acesso aos elementos de um tuplo    \n",
    "    \n",
    "O acesso aos elementos faz-se usando os parêntesis rectos `[  ]`, e aplicam-se as regras de _slicing_:\n",
    "\n",
    "    tup1[0:2]\n",
    "    tup2[-1]\n",
    "\n",
    "**Não é possível alterar os valores ou os elementos de um tuplo**. Mas é possível criar novos tuplos a partir de um ou vários tuplos.\n",
    "\n",
    "#### Operações básicas\n",
    "\n",
    "Existem as operações básicas `+` (concatenação) e `*` (repetição), que resultam num novo tuplo.\n",
    "\n",
    "    ('big',)*3\n",
    "    (1,2,3)+(4,5,6)\n",
    "    \n"
   ]
  },
  {
   "cell_type": "code",
   "execution_count": null,
   "metadata": {
    "collapsed": true
   },
   "outputs": [],
   "source": [
    "tup1 = ('big', 'data', '2016')"
   ]
  },
  {
   "cell_type": "code",
   "execution_count": null,
   "metadata": {
    "collapsed": false
   },
   "outputs": [],
   "source": [
    "tup2 = (1,2,3,4,5,6)"
   ]
  },
  {
   "cell_type": "code",
   "execution_count": null,
   "metadata": {
    "collapsed": false
   },
   "outputs": [],
   "source": [
    "tup1[0:2]"
   ]
  },
  {
   "cell_type": "code",
   "execution_count": null,
   "metadata": {
    "collapsed": false
   },
   "outputs": [],
   "source": [
    "tup2[-1]"
   ]
  },
  {
   "cell_type": "code",
   "execution_count": null,
   "metadata": {
    "collapsed": false
   },
   "outputs": [],
   "source": [
    "('big',)*3"
   ]
  },
  {
   "cell_type": "code",
   "execution_count": null,
   "metadata": {
    "collapsed": false
   },
   "outputs": [],
   "source": [
    "(1,2,3)+(4,5,6)"
   ]
  },
  {
   "cell_type": "markdown",
   "metadata": {},
   "source": [
    "## Dicionários\n",
    "Um outro tipo de estrutura de dados importante é o dicionário. Ao contrário das listas, os dicionários são indexados por chaves (_keys_), que têm de ser objectos imutáveis.\n",
    "\n",
    "Os dicionários podem ser criados com chavetas `{ }` ou usando o construtor `dict()`:\n",
    "\n",
    "    telefones = {'joao': 123, 'pedro': 124, 'antónio': 125}\n",
    "    salas = dict([('joao', 'D604'), ('pedro', 'D605')])\n",
    "    meses = dict(jan=31, fev=29, mar=31)\n",
    "\n",
    "#### Acesso aos elementos de um dicionário    \n",
    "    \n",
    "O acesso aos elementos de um dicionátio faz-se usando os parêntesis rectos `[  ]` e indicando a _key_ correspondente:\n",
    "    \n",
    "    telefones['joao']\n",
    "    salas['pedro'] = 'D606'\n",
    "    \n",
    "Para apagar um elemento, pode usar-se o comando `del`:\n",
    "    \n",
    "    del salas['pedro']  # remove a entrada com a key 'pedro' \n",
    "    meses.clear();      # remove todos os elementos do dicionário\n",
    "    del meses ;         # apaga o dicionário\n",
    "\n",
    "#### Métodos\n",
    "\n",
    "Na tabela seguinte listam-se um conjunto de métodos disponíveis para objectos do tipo dicionário (atenção que existem mais).\n",
    "\n",
    "Método | Descrição\n",
    "-|-\n",
    "`dict.clear()` | remove todos os elementos do dicionário `dict`\n",
    "`dict.copy()` | devolve uma cópia do dicionário `dict`\n",
    "`dict.keys()` | devolve uma lista com as `keys` do dicionário `dict`\n",
    "`dict.values()` | devolve uma lista com os elementos do dicionário `dict`\n",
    "`dict.items()` | devolve uma lista de tuplos (`key`, `value`) a partir do dicionário `dict`\n",
    "`dict.has_key(key)` | devolve `true` se a `key` existe no dicionário `dict`\n",
    "    \n"
   ]
  },
  {
   "cell_type": "code",
   "execution_count": null,
   "metadata": {
    "collapsed": true
   },
   "outputs": [],
   "source": [
    "telefones = {'joao': 123, 'pedro': 124, 'antonio': 125}"
   ]
  },
  {
   "cell_type": "code",
   "execution_count": null,
   "metadata": {
    "collapsed": true
   },
   "outputs": [],
   "source": [
    "salas = dict([('joao', 'D604'), ('pedro', 'D605')])\n"
   ]
  },
  {
   "cell_type": "code",
   "execution_count": null,
   "metadata": {
    "collapsed": false
   },
   "outputs": [],
   "source": [
    "meses = dict(jan=31, fev=29, mar=31)"
   ]
  },
  {
   "cell_type": "code",
   "execution_count": null,
   "metadata": {
    "collapsed": false
   },
   "outputs": [],
   "source": [
    "print telefones"
   ]
  },
  {
   "cell_type": "code",
   "execution_count": null,
   "metadata": {
    "collapsed": false
   },
   "outputs": [],
   "source": [
    "print salas"
   ]
  },
  {
   "cell_type": "code",
   "execution_count": null,
   "metadata": {
    "collapsed": false
   },
   "outputs": [],
   "source": [
    "print meses"
   ]
  },
  {
   "cell_type": "markdown",
   "metadata": {},
   "source": [
    "## Sets\n",
    "Os `sets` são uma colecção de elementos sem repetições. Os objectos do tipo `set` suportam operações matemáticas como `union`, `intersection`, `diference` e `symmetric difference`.\n",
    "\n",
    "Os `sets` podem ser criados usando chavetas `{ }` ou usando o construtor `set()`:\n",
    "\n",
    "    basket = ['apple', 'orange', 'apple', 'pear', 'orange', 'banana']\n",
    "    fruit = set(basket)          # cria um set sem duplicados\n",
    "    colors = {'blue', 'red', 'green', 'orange', 'red'}\n",
    "    \n",
    "\n",
    "#### Operações sobre `sets`  \n",
    "\n",
    "A inclusão de um elemento pode ser testada com o comando `in`:\n",
    "\n",
    "    'green' in colors\n",
    "    'yellow' in colors\n",
    "Na tabela seguinte listam-se operações as disponíveis sobre objectos do tipo `set`.\n",
    "Considere que existem os seguintes `sets`:\n",
    "\n",
    "    a = set('abracadabra')\n",
    "    b = set('alacazam')\n",
    "|Operação | Descrição |\n",
    "|:-------:|----------|\n",
    "| `a-b` | elementos em `a` mas não em `b` | \n",
    "| `a  ` &#124; `  b`  | elementos em `a` ou em `b` |\n",
    "| `a&b` | elementos em ambos `a` e `b` | \n",
    "| `a^b` | elementos em `a` ou em `b`, mas não em ambos |\n",
    "    \n"
   ]
  },
  {
   "cell_type": "code",
   "execution_count": null,
   "metadata": {
    "collapsed": false
   },
   "outputs": [],
   "source": [
    "basket = ['apple', 'orange', 'apple', 'pear', 'orange', 'banana']\n",
    "fruit = set(basket)\n",
    "fruit"
   ]
  },
  {
   "cell_type": "code",
   "execution_count": null,
   "metadata": {
    "collapsed": false
   },
   "outputs": [],
   "source": [
    "colors = {'blue', 'red', 'green', 'orange', 'red'}\n",
    "colors"
   ]
  },
  {
   "cell_type": "code",
   "execution_count": null,
   "metadata": {
    "collapsed": false
   },
   "outputs": [],
   "source": [
    "'green' in colors"
   ]
  },
  {
   "cell_type": "code",
   "execution_count": null,
   "metadata": {
    "collapsed": false
   },
   "outputs": [],
   "source": [
    "'yellow' in colors"
   ]
  },
  {
   "cell_type": "code",
   "execution_count": 1,
   "metadata": {
    "collapsed": true
   },
   "outputs": [],
   "source": [
    "a = set('abracadabra')\n",
    "b = set('alacazam')"
   ]
  },
  {
   "cell_type": "code",
   "execution_count": null,
   "metadata": {
    "collapsed": false
   },
   "outputs": [],
   "source": [
    "a"
   ]
  },
  {
   "cell_type": "code",
   "execution_count": null,
   "metadata": {
    "collapsed": false
   },
   "outputs": [],
   "source": [
    "b"
   ]
  },
  {
   "cell_type": "code",
   "execution_count": null,
   "metadata": {
    "collapsed": false
   },
   "outputs": [],
   "source": [
    "a-b"
   ]
  },
  {
   "cell_type": "code",
   "execution_count": null,
   "metadata": {
    "collapsed": false
   },
   "outputs": [],
   "source": [
    "a | b"
   ]
  },
  {
   "cell_type": "code",
   "execution_count": null,
   "metadata": {
    "collapsed": false
   },
   "outputs": [],
   "source": [
    "a & b"
   ]
  },
  {
   "cell_type": "code",
   "execution_count": null,
   "metadata": {
    "collapsed": false
   },
   "outputs": [],
   "source": [
    "a ^ b"
   ]
  }
 ],
 "metadata": {
  "kernelspec": {
   "display_name": "Python 3",
   "language": "python",
   "name": "python3"
  },
  "language_info": {
   "codemirror_mode": {
    "name": "ipython",
    "version": 3
   },
   "file_extension": ".py",
   "mimetype": "text/x-python",
   "name": "python",
   "nbconvert_exporter": "python",
   "pygments_lexer": "ipython3",
   "version": "3.4.5"
  }
 },
 "nbformat": 4,
 "nbformat_minor": 0
}
