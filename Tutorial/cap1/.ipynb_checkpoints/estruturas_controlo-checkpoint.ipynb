{
 "cells": [
  {
   "cell_type": "markdown",
   "metadata": {},
   "source": [
    "# Estruturas de Controlo\n",
    "\n",
    "* [Identação](#Identação)\n",
    "* [Estruturas de selecção](#Estruturas&nbsp;de&nbsp;selecção)\n",
    "* [Estruturas de repetição](#Estruturas&nbsp;de&nbsp;repetição)\n",
    "* [Iteração sobre estruturas de dados](#Iteração&nbsp;sobre&nbsp;estruturas&nbsp;de&nbsp;dados)"
   ]
  },
  {
   "cell_type": "markdown",
   "metadata": {},
   "source": [
    "## Identação\n",
    "\n",
    "Um bloco de instruções, como por exemplo as instruções de uma função, devem ter todas a mesma identação a partir da instrução pai. Se uma das linhas tiver uma identação diferente é gerado um erro sintáctico.\n",
    "\n",
    "Para identar um bloco de instruções tanto podem ser usados espaços como o carácter TAB. Os espaços são preferíveis ao TAB por questões de contabilidade. \n",
    "\n",
    "Em termos do número de espaços, o guia oficial do `python` diz que devem ser usados 4 espaços. Os documentos internos da Google dizem que devem ser usados 2! "
   ]
  },
  {
   "cell_type": "markdown",
   "metadata": {},
   "source": [
    "## Estruturas&nbsp;de&nbsp;selecção\n",
    "\n",
    "    \n",
    "### if-then\n",
    "\n",
    "    if <condição>:\n",
    "        <codigo>"
   ]
  },
  {
   "cell_type": "code",
   "execution_count": 17,
   "metadata": {
    "collapsed": true
   },
   "outputs": [],
   "source": [
    "dias_trabalho = ['segunda', 'terça', 'quarta', 'quinta', 'sexta']\n",
    "dia = 'terça'"
   ]
  },
  {
   "cell_type": "code",
   "execution_count": 10,
   "metadata": {
    "collapsed": false
   },
   "outputs": [
    {
     "name": "stdout",
     "output_type": "stream",
     "text": [
      "terça pertence aos dias de trabalho\n"
     ]
    }
   ],
   "source": [
    "if dia in dias_trabalho:\n",
    "    print \"%s pertence aos dias de trabalho\" %dia"
   ]
  },
  {
   "cell_type": "markdown",
   "metadata": {},
   "source": [
    "### if-then-else\n",
    "\n",
    "    if <condição>:\n",
    "        <codigo>\n",
    "    else:\n",
    "        <codigo>"
   ]
  },
  {
   "cell_type": "code",
   "execution_count": 11,
   "metadata": {
    "collapsed": false
   },
   "outputs": [
    {
     "name": "stdout",
     "output_type": "stream",
     "text": [
      "sábado não pertence aos dias de trabalho\n"
     ]
    }
   ],
   "source": [
    "dia = 'sábado'\n",
    "if dia in dias_trabalho:\n",
    "    print \"%s pertence aos dias de trabalho\" %dia\n",
    "else:\n",
    "    print \"%s não pertence aos dias de trabalho\" %dia"
   ]
  },
  {
   "cell_type": "markdown",
   "metadata": {},
   "source": [
    "### if-then-elif-else\n",
    "\n",
    "    if <condição1>:\n",
    "        <codigo1>\n",
    "    elif <condição2>:\n",
    "        <codigo2>\n",
    "    else:\n",
    "        <codigo>"
   ]
  },
  {
   "cell_type": "code",
   "execution_count": null,
   "metadata": {
    "collapsed": true
   },
   "outputs": [],
   "source": [
    "dias_descanso = ['sábado', 'domingo']\n",
    "dia = 'sábado'\n",
    "if dia in dias_trabalho:\n",
    "    print \"%s pertence aos dias de trabalho\" %dia\n",
    "elif dia in dias_descanso:\n",
    "    print \"%s pertence aos dias de descanso\" %dia\n",
    "else:\n",
    "    print \"%s não pertence a nenhum dia da semana\" %dia"
   ]
  },
  {
   "cell_type": "markdown",
   "metadata": {},
   "source": [
    "### Expressões&nbsp;condicionais\n",
    "\n",
    "Por vezes é usada uma estrutura de selecção para atribuir um valor diferente a uma variável:\n",
    "\n",
    "    if <condição>:\n",
    "        x = <valor1>\n",
    "    else:\n",
    "        x = <valor2>\n",
    "        \n",
    "Nestes casos é possível usar uma expressão condicional, que compacta a notação:\n",
    "\n",
    "    x = <valor1> if <condição> else <valor2>\n",
    "    "
   ]
  },
  {
   "cell_type": "code",
   "execution_count": 26,
   "metadata": {
    "collapsed": false
   },
   "outputs": [
    {
     "name": "stdout",
     "output_type": "stream",
     "text": [
      "positivo\n"
     ]
    }
   ],
   "source": [
    "x = 10\n",
    "valor = 'positivo' if x>0 else 'falso'\n",
    "print valor"
   ]
  },
  {
   "cell_type": "markdown",
   "metadata": {},
   "source": [
    "### Objectos que se comportam como `False`\n",
    "\n",
    "Na lista seguinte enumeram-se os objectos que se comportam como `False`:\n",
    "\n",
    "1. `None` \n",
    "2. `False`\n",
    "3. o número zero de qualquer tipo numérico, por exemplo, 0, 0L, 0.0, 0j.\n",
    "4. qualquer sequência vazia, por exemplo, '', (), [].\n",
    "5. qualquer dicionário vazio, por exemplo, {}.\n",
    "6. `set([])`\n",
    "\n",
    "### O tipo especial  `None`\n",
    "\n",
    "O `python` tem um tipo de objecto especial chamado `None`. Este tipo representa um _tipo sem valor_. A ideia é poder declarar uma variável como `None`, isto é sem valor. Esta variável pode assim ser usada ao longo de um programa, sem que dê erro, até que lhe seja atribuída um valor. \n",
    "\n",
    "    x = None\n",
    "    "
   ]
  },
  {
   "cell_type": "code",
   "execution_count": 12,
   "metadata": {
    "collapsed": true
   },
   "outputs": [],
   "source": [
    "x = None\n",
    "if x:\n",
    "    print \"Esta frase não aparece\""
   ]
  },
  {
   "cell_type": "code",
   "execution_count": null,
   "metadata": {
    "collapsed": false
   },
   "outputs": [],
   "source": [
    "whos"
   ]
  },
  {
   "cell_type": "markdown",
   "metadata": {},
   "source": [
    "## Estruturas de repetição\n",
    "\n",
    "### while\n",
    "\n",
    "    while <condicao>:\n",
    "        <codigo>"
   ]
  },
  {
   "cell_type": "code",
   "execution_count": 21,
   "metadata": {
    "collapsed": false
   },
   "outputs": [
    {
     "name": "stdout",
     "output_type": "stream",
     "text": [
      "10\n",
      "9\n",
      "8\n",
      "7\n",
      "6\n",
      "5\n",
      "4\n",
      "3\n",
      "2\n",
      "1\n"
     ]
    }
   ],
   "source": [
    "x = 10\n",
    "while x > 0:\n",
    "    print x\n",
    "    x = x-1"
   ]
  },
  {
   "cell_type": "markdown",
   "metadata": {},
   "source": [
    "### For\n",
    "\n",
    "    for <variaval> in :\n",
    "        <codigo>"
   ]
  },
  {
   "cell_type": "code",
   "execution_count": 19,
   "metadata": {
    "collapsed": false
   },
   "outputs": [
    {
     "name": "stdout",
     "output_type": "stream",
     "text": [
      "segunda\n",
      "terça\n",
      "quarta\n",
      "quinta\n",
      "sexta\n"
     ]
    }
   ],
   "source": [
    "for item in dias_trabalho:\n",
    "    print item"
   ]
  },
  {
   "cell_type": "markdown",
   "metadata": {},
   "source": [
    "### break e continue\n",
    "\n",
    "Os comandos `break` e `continue` podem ser usados dentro das estruturas de repetição para alterar a iteração:\n",
    "* `break` - interrompe o ciclo\n",
    "* `continue` - a iteração passa para o próximo elemento"
   ]
  },
  {
   "cell_type": "code",
   "execution_count": 23,
   "metadata": {
    "collapsed": false
   },
   "outputs": [
    {
     "name": "stdout",
     "output_type": "stream",
     "text": [
      "0\n",
      "1\n",
      "2\n",
      "4\n",
      "5\n"
     ]
    }
   ],
   "source": [
    "for x in range(6):\n",
    "    if x == 3:\n",
    "        continue\n",
    "    print x"
   ]
  },
  {
   "cell_type": "code",
   "execution_count": 24,
   "metadata": {
    "collapsed": false
   },
   "outputs": [
    {
     "name": "stdout",
     "output_type": "stream",
     "text": [
      "0\n",
      "1\n",
      "2\n"
     ]
    }
   ],
   "source": [
    "for x in range(6):\n",
    "    if x == 3:\n",
    "        break\n",
    "    print x"
   ]
  },
  {
   "cell_type": "markdown",
   "metadata": {},
   "source": [
    "### A função `range`\n",
    "\n",
    "Uma função `range(n)` devolve uma lista com os números inteiros de 0 até n (exclusivé). Pode ser invocada com mais parâmetros:\n",
    "* `range(a,b)` - devolve uma lista com os números inteiros de `a` até `b` (exclusivé)\n",
    "* `range(a,b,step)` - devolve uma lista com os números inteiros de `a` até `b` (exclusivé), com incrementos de `step`\n",
    "\n",
    "Para obter uma sequência decrescente usa-se `step < 0`. "
   ]
  },
  {
   "cell_type": "markdown",
   "metadata": {},
   "source": [
    "## Iteração&nbsp;sobre&nbsp;estruturas&nbsp;de&nbsp;dados\n",
    "\n",
    "O `python` dispõe de outras formas de iteração que envolvem listas, dicionários e conjuntos, denominados _list comprehension_.\n",
    "\n",
    "\n",
    "### Exemplo básico\n",
    "\n",
    "Por vezes é comum iterar uma lista para criar uma outra lista. Por exemplo: para obter uma nova lista em que os elementos têm como valor o dobro dos elementos de outra lista, pode escrever-se:\n",
    "\n",
    "    lista = [1, 2, 5, 8, 10]\n",
    "    novalista = []\n",
    "    for item in lista:\n",
    "        novalista.append(item*2)\n",
    "        \n"
   ]
  },
  {
   "cell_type": "code",
   "execution_count": 29,
   "metadata": {
    "collapsed": false
   },
   "outputs": [
    {
     "name": "stdout",
     "output_type": "stream",
     "text": [
      "[2, 4, 10, 16, 20]\n"
     ]
    }
   ],
   "source": [
    "lista = [1, 2, 5, 8, 10]\n",
    "novalista = []\n",
    "for item in lista:\n",
    "    novalista.append(item*2)\n",
    "print novalista"
   ]
  },
  {
   "cell_type": "markdown",
   "metadata": {},
   "source": [
    "Este exemplo pode escrever-se de forma mais compacta:\n",
    "\n",
    "    lista = [1, 2, 5, 8, 10]\n",
    "    novalista = [item*2 for item in lista]"
   ]
  },
  {
   "cell_type": "code",
   "execution_count": 31,
   "metadata": {
    "collapsed": false
   },
   "outputs": [
    {
     "name": "stdout",
     "output_type": "stream",
     "text": [
      "[2, 4, 10, 16, 20]\n"
     ]
    }
   ],
   "source": [
    "lista = [1, 2, 5, 8, 10]\n",
    "novalista = [item*2 for item in lista]\n",
    "print novalista"
   ]
  },
  {
   "cell_type": "markdown",
   "metadata": {},
   "source": [
    "### Exemplo usando condições\n",
    "\n",
    "Considere o seguinte exemplo, em que a partir de uma lista se obtém uma nova lista com os elementos positivos:\n",
    "\n",
    "    lista = [1, -2, 4, 5, -3, -5, 2, 7]\n",
    "    novalista = []\n",
    "    for item in lista:\n",
    "        if item >=0:\n",
    "            novalista.append(item)\n",
    "    "
   ]
  },
  {
   "cell_type": "code",
   "execution_count": 32,
   "metadata": {
    "collapsed": false
   },
   "outputs": [
    {
     "name": "stdout",
     "output_type": "stream",
     "text": [
      "[1, 4, 5, 2, 7]\n"
     ]
    }
   ],
   "source": [
    "lista = [1, -2, 4, 5, -3, -5, 2, 7]\n",
    "novalista = []\n",
    "for item in lista:\n",
    "    if item >=0:\n",
    "        novalista.append(item)\n",
    "print novalista"
   ]
  },
  {
   "cell_type": "markdown",
   "metadata": {},
   "source": [
    "O exemplo pode escrever-se de forma mais compacta:\n",
    "\n",
    "    lista = [1, -2, 4, 5, -3, -5, 2, 7]\n",
    "    novalista = [item for item in lista if item >= 0]\n",
    "    "
   ]
  },
  {
   "cell_type": "code",
   "execution_count": 34,
   "metadata": {
    "collapsed": false
   },
   "outputs": [
    {
     "name": "stdout",
     "output_type": "stream",
     "text": [
      "[1, 4, 5, 2, 7]\n"
     ]
    }
   ],
   "source": [
    "lista = [1, -2, 4, 5, -3, -5, 2, 7]\n",
    "novalista = [item for item in lista if item >= 0]\n",
    "print novalista"
   ]
  },
  {
   "cell_type": "markdown",
   "metadata": {
    "collapsed": true
   },
   "source": [
    "### Exemplo usando ciclos encadeados\n",
    "\n",
    "Os ciclos encadeados também têm uma simplificação. Considere o seguinte exemplo:\n",
    "\n",
    "    letras = 'ABC'\n",
    "    numeros = '123'\n",
    "    lista = [ l+n for l in letras for n in numeros ]\n",
    "    print lista"
   ]
  },
  {
   "cell_type": "code",
   "execution_count": 1,
   "metadata": {
    "collapsed": true
   },
   "outputs": [],
   "source": [
    "letras = 'ABC'\n",
    "numeros = '123'\n",
    "lista = [ l+n for l in letras for n in numeros ]\n",
    "print lista"
   ]
  }
 ],
 "metadata": {
  "kernelspec": {
   "display_name": "Python 2",
   "language": "python",
   "name": "python2"
  },
  "language_info": {
   "codemirror_mode": {
    "name": "ipython",
    "version": 2
   },
   "file_extension": ".py",
   "mimetype": "text/x-python",
   "name": "python",
   "nbconvert_exporter": "python",
   "pygments_lexer": "ipython2",
   "version": "2.7.11"
  }
 },
 "nbformat": 4,
 "nbformat_minor": 0
}
