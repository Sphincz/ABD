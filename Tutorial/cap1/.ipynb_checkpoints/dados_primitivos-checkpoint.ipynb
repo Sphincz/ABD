{
 "cells": [
  {
   "cell_type": "markdown",
   "metadata": {},
   "source": [
    "## Tipos de dados primitivos e operadores\n",
    "\n",
    "O `python` tem uma série de tipos de dados primitivos e operadores. São eles:  \n",
    "* [Tipo primitivo String](#String)\n",
    "    * [Concatenação e comprimento](#Concatenação&ensp;e&ensp;comprimento)\n",
    "    * [String %](#String&ensp;%)\n",
    "    * [slices](#Slices)\n",
    "* [Tipos primitivos Inteiro e Decimal](#Inteiros&ensp;e&ensp;decimais)\n",
    "* [Tipo primitivo booleano](#Booleanos)\n",
    "* [Conversão entre tipos de dados](#Conversão&ensp;entre&ensp;tipos&ensp;de&ensp;dados)\n",
    "* [Operadores](#Operadores)\n",
    "    * [aritméticos](#Operadores&ensp;aritméticos)\n",
    "    * [relacionais](#Operadores&ensp;relacionais)\n",
    "    * [lógicos](#Operadores&ensp;lógicos)\n",
    "    * [lógicos bit-a-bit](#Operadores&ensp;lógicos&ensp;bit-a-bit)\n",
    "    * [de inclusão](#Operadores&ensp;de&ensp;inclusão)\n",
    "    * [de identidade](#Operadores&ensp;de&ensp;identidade)\n",
    "    * [de atribuição](#Operadores&ensp;de&ensp;atribuição)\n",
    "    * [precedência](#Precedência&ensp;dos&ensp;operadores)"
   ]
  },
  {
   "cell_type": "markdown",
   "metadata": {},
   "source": [
    "### String\n",
    "\n",
    "\n",
    "O tipo de dados primitivo `string` permite guardar uma cadeia de caracteres. Uma cadeia de caracteres define-se  entre aspas \"\" ou plicas ''.\n",
    "\n",
    "Caracteres especiais (_escape characteres_) podem definir-se usando carácter \\ seguido de uma letra. Por exemplo \\n define uma nova linha.\n"
   ]
  },
  {
   "cell_type": "code",
   "execution_count": null,
   "metadata": {
    "collapsed": true
   },
   "outputs": [],
   "source": [
    "print(\"Ola\")"
   ]
  },
  {
   "cell_type": "code",
   "execution_count": 1,
   "metadata": {
    "collapsed": false
   },
   "outputs": [
    {
     "name": "stdout",
     "output_type": "stream",
     "text": [
      "Ola\n",
      "tudo bem?\n"
     ]
    }
   ],
   "source": [
    "print(\"Ola\\ntudo bem?\")"
   ]
  },
  {
   "cell_type": "markdown",
   "metadata": {},
   "source": [
    "Cada comando `print` escreve o resultado numa linha diferente. Para continuar na mesma linha, deve usar-se opção `end=''`, que por defeito introduz uma quebra de linha `\\n`:\n",
    "\n",
    "    print (\"ola \", end='') \n",
    "    print (\"tudo bem?\")"
   ]
  },
  {
   "cell_type": "code",
   "execution_count": 6,
   "metadata": {
    "collapsed": false
   },
   "outputs": [
    {
     "name": "stdout",
     "output_type": "stream",
     "text": [
      "ola tudo bem?\n"
     ]
    }
   ],
   "source": [
    "print (\"ola \", end='') \n",
    "print (\"tudo bem?\")"
   ]
  },
  {
   "cell_type": "markdown",
   "metadata": {},
   "source": [
    "Uma `string` se for precedida da letra `u` é codificada em _unicode_. Se for precedida por um `r`, a `string` diz-se que está no modo `raw` e os caracteres especiais não são considerados. "
   ]
  },
  {
   "cell_type": "code",
   "execution_count": null,
   "metadata": {
    "collapsed": true
   },
   "outputs": [],
   "source": [
    "print r'x\\nx'\n",
    "print u'joão'"
   ]
  },
  {
   "cell_type": "markdown",
   "metadata": {},
   "source": [
    "Uma `string` pode conter várias linhas de texto se for definida por 3 aspas ou 3 plicas."
   ]
  },
  {
   "cell_type": "code",
   "execution_count": 3,
   "metadata": {
    "collapsed": false
   },
   "outputs": [
    {
     "name": "stdout",
     "output_type": "stream",
     "text": [
      "Isto é uma string\n",
      "que contém várias linhas de texto.\n",
      "\n",
      "As diferentes linhas são preservadas.\n"
     ]
    }
   ],
   "source": [
    "print \"\"\"Isto é uma string\n",
    "que contém várias linhas de texto.\n",
    "\n",
    "As diferentes linhas são preservadas.\"\"\""
   ]
  },
  {
   "cell_type": "markdown",
   "metadata": {},
   "source": [
    "### Concatenação&ensp;e&ensp;comprimento\n",
    "\n",
    "As `strings` podem concatenar-se usando o operador `+`."
   ]
  },
  {
   "cell_type": "code",
   "execution_count": 32,
   "metadata": {
    "collapsed": false
   },
   "outputs": [
    {
     "name": "stdout",
     "output_type": "stream",
     "text": [
      "olajoão\n"
     ]
    }
   ],
   "source": [
    "s = \"ola\" + \"joão\"\n",
    "print s"
   ]
  },
  {
   "cell_type": "markdown",
   "metadata": {},
   "source": [
    "O comprimento de uma `string` obtém-se com o comando `len`."
   ]
  },
  {
   "cell_type": "code",
   "execution_count": 33,
   "metadata": {
    "collapsed": false
   },
   "outputs": [
    {
     "data": {
      "text/plain": [
       "8"
      ]
     },
     "execution_count": 33,
     "metadata": {},
     "output_type": "execute_result"
    }
   ],
   "source": [
    "len(s)"
   ]
  },
  {
   "cell_type": "markdown",
   "metadata": {},
   "source": [
    "É possível repetir-se uma `string` usando o operador `*`."
   ]
  },
  {
   "cell_type": "code",
   "execution_count": 36,
   "metadata": {
    "collapsed": false
   },
   "outputs": [
    {
     "name": "stdout",
     "output_type": "stream",
     "text": [
      "<=><=><=><=><=><=><=><=><=><=><=><=><=><=><=><=><=><=><=><=>\n"
     ]
    }
   ],
   "source": [
    "s = \"<=>\"*20\n",
    "print s"
   ]
  },
  {
   "cell_type": "markdown",
   "metadata": {},
   "source": [
    "### String&ensp;%\n",
    "\n",
    "O `python` dispõe de um mecanismo parecido com o `printf()` para compôr uma `string`. O operador `%` aceita à esquerda uma `string` estilo `printf()` e substituí nessa `string` os carácteres especiais `%d`, `%s`, `%f`/`%g` pelo conteúdo de uma(s) variável(eis) que aparece(m) à direita do operador `%`. \n",
    "\n",
    "Vejam-se os exemplos seguintes. "
   ]
  },
  {
   "cell_type": "code",
   "execution_count": 5,
   "metadata": {
    "collapsed": false
   },
   "outputs": [
    {
     "name": "stdout",
     "output_type": "stream",
     "text": [
      "o valor de x é 10\n"
     ]
    }
   ],
   "source": [
    "x = 10\n",
    "print \"o valor de x é %d\" %x"
   ]
  },
  {
   "cell_type": "code",
   "execution_count": 13,
   "metadata": {
    "collapsed": false
   },
   "outputs": [
    {
     "name": "stdout",
     "output_type": "stream",
     "text": [
      "x = 10, y = 0.000043 ou y = 4.33e-05\n"
     ]
    }
   ],
   "source": [
    "y = 4.33e-5\n",
    "print \"x = %d, y = %f ou y = %g\" %(x,y,y)\n"
   ]
  },
  {
   "cell_type": "code",
   "execution_count": 31,
   "metadata": {
    "collapsed": false
   },
   "outputs": [
    {
     "name": "stdout",
     "output_type": "stream",
     "text": [
      "Olá joão\n"
     ]
    }
   ],
   "source": [
    "t = \"João\"\n",
    "w = \"Olá %s\" %t\n",
    "print w"
   ]
  },
  {
   "cell_type": "markdown",
   "metadata": {},
   "source": [
    "### Slices\n",
    "\n",
    "Uma peça importante da sintaxe do `python` é a noção de _slice_. Um _slice_ permite aceder a um elemento, ou a um conjunto de elementos de uma variável.\n",
    "\n",
    "O _slice_ `s[inicio:fim]` devolve o conjunto de elementos da variável `s` que começam na posição `inicio` e terminam na posição `fim` (não incluída). A primeira posição é 0 (zero). Por exemplo, seja `s = \"Hello\"`.\n",
    "\n",
    "- `s[1:4]` devolve 'ell' - o conjunto de carácteres que começam no índice 1 e terminam no índice 4 (não incluído)\n",
    "- `s[1:]` devole 'ello' - omitir um dos índices por defeito considera-se o início ou o fim da `string`\n",
    "- `s[:]` devolve 'Hello' - omitir ambor os índices devolve a `string` completa.\n",
    "- `s[1:100]` devolve 'ello' - os índices são truncados pela dimensão da `string`."
   ]
  },
  {
   "cell_type": "code",
   "execution_count": 17,
   "metadata": {
    "collapsed": false
   },
   "outputs": [],
   "source": [
    "s = 'Hello'"
   ]
  },
  {
   "cell_type": "code",
   "execution_count": 18,
   "metadata": {
    "collapsed": false
   },
   "outputs": [
    {
     "name": "stdout",
     "output_type": "stream",
     "text": [
      "ell\n"
     ]
    }
   ],
   "source": [
    "print s[1:4]"
   ]
  },
  {
   "cell_type": "code",
   "execution_count": 19,
   "metadata": {
    "collapsed": false
   },
   "outputs": [
    {
     "name": "stdout",
     "output_type": "stream",
     "text": [
      "ello\n"
     ]
    }
   ],
   "source": [
    "print s[1:]"
   ]
  },
  {
   "cell_type": "code",
   "execution_count": 20,
   "metadata": {
    "collapsed": false
   },
   "outputs": [
    {
     "name": "stdout",
     "output_type": "stream",
     "text": [
      "Hello\n"
     ]
    }
   ],
   "source": [
    "print s[:]"
   ]
  },
  {
   "cell_type": "code",
   "execution_count": 21,
   "metadata": {
    "collapsed": false
   },
   "outputs": [
    {
     "name": "stdout",
     "output_type": "stream",
     "text": [
      "ello\n"
     ]
    }
   ],
   "source": [
    "print s[1:100]"
   ]
  },
  {
   "cell_type": "markdown",
   "metadata": {},
   "source": [
    "Os _slices_ também podem ser negativos. Nesse caso os índices contam a partir do fim. Como forma de visualizar o resultado esperado, consider-se o seguinte _esquema_ de numeração para os índices:\n",
    "\n",
    "     +---+---+---+---+---+\n",
    "     | H | E | L | L | O |\n",
    "     +---+---+---+---+---+\n",
    "       0   1   2   3   4\n",
    "      -5  -4  -3  -2  -1"
   ]
  },
  {
   "cell_type": "code",
   "execution_count": 25,
   "metadata": {
    "collapsed": false
   },
   "outputs": [
    {
     "name": "stdout",
     "output_type": "stream",
     "text": [
      "Hell\n"
     ]
    }
   ],
   "source": [
    "print s[:-1]"
   ]
  },
  {
   "cell_type": "code",
   "execution_count": 27,
   "metadata": {
    "collapsed": false
   },
   "outputs": [
    {
     "name": "stdout",
     "output_type": "stream",
     "text": [
      "el\n"
     ]
    }
   ],
   "source": [
    "print s[-4:-2]"
   ]
  },
  {
   "cell_type": "code",
   "execution_count": 28,
   "metadata": {
    "collapsed": false
   },
   "outputs": [
    {
     "name": "stdout",
     "output_type": "stream",
     "text": [
      "llo\n"
     ]
    }
   ],
   "source": [
    "print s[-3:]"
   ]
  },
  {
   "cell_type": "markdown",
   "metadata": {},
   "source": [
    "A síntaxe dos _slices_ é bastante conveniente para dividir uma `string` (ou variável). Repare que, qualquer que seja o valor de `n`, tem-se\n",
    "\n",
    "    s[:n] + s[n:] == s\n",
    "    \n",
    "mesmo que o valor de `n` saia fora dos limites."
   ]
  },
  {
   "cell_type": "markdown",
   "metadata": {},
   "source": [
    "### Inteiros&ensp;e&ensp;decimais\n",
    "\n",
    "Ao atribuir um valor a uma variável, o tipo de dados por defeito é inteiro (`int`). Se tiver parte decimal então é um `float`."
   ]
  },
  {
   "cell_type": "code",
   "execution_count": 41,
   "metadata": {
    "collapsed": false
   },
   "outputs": [
    {
     "data": {
      "text/plain": [
       "int"
      ]
     },
     "execution_count": 41,
     "metadata": {},
     "output_type": "execute_result"
    }
   ],
   "source": [
    "x=2\n",
    "type(x)"
   ]
  },
  {
   "cell_type": "code",
   "execution_count": 42,
   "metadata": {
    "collapsed": false
   },
   "outputs": [
    {
     "data": {
      "text/plain": [
       "float"
      ]
     },
     "execution_count": 42,
     "metadata": {},
     "output_type": "execute_result"
    }
   ],
   "source": [
    "x=2.\n",
    "type(x)"
   ]
  },
  {
   "cell_type": "markdown",
   "metadata": {
    "collapsed": true
   },
   "source": [
    "### Booleanos\n",
    "\n",
    "O tipo de dados `boolean` permite guardar dois valores: verdadeiro (`True`) e false (`False`). Ao contrário da linguagem C, é um tipo de dados próprio.\n"
   ]
  },
  {
   "cell_type": "code",
   "execution_count": 1,
   "metadata": {
    "collapsed": false
   },
   "outputs": [
    {
     "data": {
      "text/plain": [
       "bool"
      ]
     },
     "execution_count": 1,
     "metadata": {},
     "output_type": "execute_result"
    }
   ],
   "source": [
    "x = True\n",
    "y = False\n",
    "type(y)"
   ]
  },
  {
   "cell_type": "markdown",
   "metadata": {
    "collapsed": true
   },
   "source": [
    "### Conversão&ensp;entre&ensp;tipos&ensp;de&ensp;dados\n",
    "\n",
    "É possível converter os diferentes tipos de dados primitivos."
   ]
  },
  {
   "cell_type": "markdown",
   "metadata": {
    "collapsed": true
   },
   "source": [
    "#### Conversão int -> double\n",
    "\n",
    "Para converter um inteiro num decimal:"
   ]
  },
  {
   "cell_type": "code",
   "execution_count": 64,
   "metadata": {
    "collapsed": false
   },
   "outputs": [
    {
     "name": "stdout",
     "output_type": "stream",
     "text": [
      "2.0\n"
     ]
    }
   ],
   "source": [
    "x=2\n",
    "y=float(x)\n",
    "print y"
   ]
  },
  {
   "cell_type": "markdown",
   "metadata": {
    "collapsed": true
   },
   "source": [
    "#### Conversão float -> int\n",
    "\n",
    "Para converter um decimal num inteiro:"
   ]
  },
  {
   "cell_type": "code",
   "execution_count": 63,
   "metadata": {
    "collapsed": false
   },
   "outputs": [
    {
     "name": "stdout",
     "output_type": "stream",
     "text": [
      "-2\n"
     ]
    }
   ],
   "source": [
    "y=-2.37\n",
    "x=int(y)\n",
    "print x"
   ]
  },
  {
   "cell_type": "markdown",
   "metadata": {
    "collapsed": true
   },
   "source": [
    "#### Conversão string -> inteiro ou decimal\n",
    "\n",
    "Para converter uma string num número inteiro:"
   ]
  },
  {
   "cell_type": "code",
   "execution_count": 74,
   "metadata": {
    "collapsed": false
   },
   "outputs": [
    {
     "name": "stdout",
     "output_type": "stream",
     "text": [
      "2320\n"
     ]
    }
   ],
   "source": [
    "s=\"2310\"\n",
    "x=int(s)\n",
    "print x+10\n"
   ]
  },
  {
   "cell_type": "code",
   "execution_count": 75,
   "metadata": {
    "collapsed": false
   },
   "outputs": [
    {
     "name": "stdout",
     "output_type": "stream",
     "text": [
      "3.16\n"
     ]
    }
   ],
   "source": [
    "s=\"2.66\"\n",
    "x=float(s)\n",
    "print x+0.5"
   ]
  },
  {
   "cell_type": "markdown",
   "metadata": {
    "collapsed": true
   },
   "source": [
    "#### Conversão inteiro ou decimal -> string\n",
    "\n",
    "Para converter um inteiro ou decimal numa string:"
   ]
  },
  {
   "cell_type": "code",
   "execution_count": 78,
   "metadata": {
    "collapsed": false
   },
   "outputs": [
    {
     "name": "stdout",
     "output_type": "stream",
     "text": [
      "2.3\n"
     ]
    }
   ],
   "source": [
    "x=2.3\n",
    "y=str(x)\n",
    "print y"
   ]
  },
  {
   "cell_type": "markdown",
   "metadata": {},
   "source": [
    "### Operadores\n",
    "\n",
    "O `python` dispõe de vários tipos de operadores, que se resumem nas tabelas seguintes.\n"
   ]
  },
  {
   "cell_type": "markdown",
   "metadata": {},
   "source": [
    "#### Operadores&ensp;aritméticos\n",
    "\n",
    "Operador | Descrição | Exemplo\n",
    ":-:|-|- \n",
    "`+` | adição | x = y+2\n",
    "`-` | subtração | x = y-2\n",
    "`*` | multiplicação | x = 3*y\n",
    "`/` | divisão (por defeito inteira se operandos forem inteiros) | x = y / 2\n",
    "`//` | divisão inteira (independentemente dos operandos) | x = 3.0 // 2.\n",
    "`**` | exponenciação | x = 2**4\n",
    "`%` | resto da divisão inteira | x = 5%4\n"
   ]
  },
  {
   "cell_type": "markdown",
   "metadata": {},
   "source": [
    "#### Operadores&ensp;relacionais\n",
    "\n",
    "Operador | Descrição\n",
    ":-:|-\n",
    "`<` | menor\n",
    "`<=` | menor ou igual\n",
    "`>` | maior\n",
    "`>=` | maior ou igual\n",
    "`==` | igual\n",
    "`!=` ou `<>` | diferente"
   ]
  },
  {
   "cell_type": "markdown",
   "metadata": {},
   "source": [
    "#### Operadores&ensp;lógicos\n",
    "\n",
    "Operador | Descrição\n",
    ":-:|-\n",
    "`or` | dijunção - \"ou\"\n",
    "`and` | conjunção - \"e\"\n",
    "`not` | negação - \"não\""
   ]
  },
  {
   "cell_type": "markdown",
   "metadata": {},
   "source": [
    "#### Operadores&ensp;lógicos&ensp;bit-a-bit\n",
    "\n",
    "Admita que:\n",
    "\n",
    "    a = 0011 1100  (número 60 em binário)\n",
    "    b = 0000 1101  (número 13 em binário)\n",
    "\n",
    "Operador | Descrição | Exemplo\n",
    ":-:|-|\n",
    "`&` | \"and\" bit-a-bit | `a & b = 0000 1100` (número 12 em binário)\n",
    "&#124; | \"or\" bit-a-bit | `a` &#124; `b = 0011 1101` (número 61 em binário)\n",
    "`&` | \"xor\" bit-a-bit | `a ^ b = 0011 0001` (número 49 em binário)\n",
    "`~` | negação bit-a-bit | `~a = 1100 0011` (número -61 em binário)\n",
    "`<<` | \"shift left\" | `a<<1 = 0111 1000` (shift left 1 casas: número 122 em binário)\n",
    "`>>` | \"shift right\" | `a>>1 = 0001 1110` (shift right 1 casa: número 30 em binário)"
   ]
  },
  {
   "cell_type": "code",
   "execution_count": 2,
   "metadata": {
    "collapsed": false
   },
   "outputs": [
    {
     "name": "stdout",
     "output_type": "stream",
     "text": [
      "12\n"
     ]
    }
   ],
   "source": [
    "a=60\n",
    "b=13\n",
    "print a&b"
   ]
  },
  {
   "cell_type": "markdown",
   "metadata": {},
   "source": [
    "#### Operadores&ensp;de&ensp;inclusão\n",
    "\n",
    "Admita que:\n",
    "\n",
    "    letra_s = \"s\"\n",
    "    letra_t = \"t\"\n",
    "    palavra = \"operadores\"  (número 13 em binário)\n",
    "\n",
    "Operador | Descrição | Exemplo\n",
    ":-:|-|\n",
    "`in` | Devolve verdadeito se encontra o valor de uma variável numa sequência | `letra_s in palavra` (devolve `True`)\n",
    "`not in` | Devolve verdadeito se não encontra o valor de uma variável numa sequência | `letra_t not in palavra` (devolve `True`)"
   ]
  },
  {
   "cell_type": "code",
   "execution_count": 8,
   "metadata": {
    "collapsed": false
   },
   "outputs": [
    {
     "data": {
      "text/plain": [
       "True"
      ]
     },
     "execution_count": 8,
     "metadata": {},
     "output_type": "execute_result"
    }
   ],
   "source": [
    "letra_s = \"s\"\n",
    "palavra = \"operadores\"\n",
    "letra_s in palavra"
   ]
  },
  {
   "cell_type": "markdown",
   "metadata": {},
   "source": [
    "#### Operadores&ensp;de&ensp;identidade\n",
    "\n",
    "Uma particularidade do `python` é que o operador `=` na maior parte dos casos não copia um objecto, mas devolve uma referência para o mesmo. Para testar se dois objectos partilham a mesma posição de memória podem usar-se os operadores de identidade.\n",
    "\n",
    "Operador | Descrição\n",
    ":-:|-\n",
    "`is` | devolve verdadeiro se duas variáveis apontam para o mesmo objecto\n",
    "`is not` | devolve falso se duas variáveis não apontam para o mesmo objecto"
   ]
  },
  {
   "cell_type": "code",
   "execution_count": 16,
   "metadata": {
    "collapsed": false
   },
   "outputs": [
    {
     "data": {
      "text/plain": [
       "True"
      ]
     },
     "execution_count": 16,
     "metadata": {},
     "output_type": "execute_result"
    }
   ],
   "source": [
    "x=[2,3]\n",
    "y = x\n",
    "y is x"
   ]
  },
  {
   "cell_type": "code",
   "execution_count": 17,
   "metadata": {
    "collapsed": false
   },
   "outputs": [
    {
     "data": {
      "text/plain": [
       "False"
      ]
     },
     "execution_count": 17,
     "metadata": {},
     "output_type": "execute_result"
    }
   ],
   "source": [
    "x = [2,3]\n",
    "y = [2,3]\n",
    "y is x"
   ]
  },
  {
   "cell_type": "markdown",
   "metadata": {},
   "source": [
    "#### Operadores&ensp;de&ensp;atribuição\n",
    "\n",
    "O `python` dispõe dos seguintes operadores de atribuição:\n",
    "\n",
    "Operador | Descrição \n",
    ":-:|- | -\n",
    "`=` | Atribui os valores à direita do operador aos operandos à esquerda. Exemplo: `c = a + b` \n",
    "`+=` | `c += a` é equivalente a `c = c + a` \n",
    "`-=` | `c -= a` é equivalente a  `c = c - a` \n",
    "`*=` | `c *= a` é equivalente a  `c = c * a` \n",
    "`/=` | `c /= a`  é equivalente a  `c = c / a` \n",
    "`%=` | `c %= a`  é equivalente a  `c = c % a` \n",
    "`**=` | `c **= a`  é equivalente a  `c = c ** a` \n",
    "`//=` | `c //= a`  é equivalente a  `c = c // a` \n",
    "`<<=` | `c <<= a`  é equivalente a  `c = c << a` \n",
    "`>>=` | `c >>= a`  é equivalente a  `c = c >> a` "
   ]
  },
  {
   "cell_type": "markdown",
   "metadata": {},
   "source": [
    "#### Precedência&ensp;dos&ensp;operadores\n",
    "\n",
    "A lista em baixo lista a precedência entre os diferentes operadores, da maior para a mais baixa.\n",
    "\n",
    "Operador | Descrição\n",
    ":-:|-\n",
    "`**` | Exponenciação\n",
    "`~` | Negação\n",
    "`* / % //` | Multiplicação, divisão, resto da divisão inteira, e divisão inteira\n",
    "`+ -` | Soma e subtracção\n",
    "`>> <<` | \"Shift-right\" e \"shift-left\"\n",
    "`&` | \"And\" bit-a-bit\n",
    "`^ ` &#124; | \"Xor\" e \"or\" bit-a-bit\n",
    "`<= < > >=` | Operadores de comparação\n",
    "`<> == !=` | Operadores de igualdade\n",
    "`= %= /= //= -= +=` | Operadores de atribuição\n",
    "`is is not` | Operadores de identidade\n",
    "`in not in` | Operadores de inclusão\n",
    "`not or and` | Operadores lógicos\n"
   ]
  },
  {
   "cell_type": "code",
   "execution_count": null,
   "metadata": {
    "collapsed": true
   },
   "outputs": [],
   "source": []
  }
 ],
 "metadata": {
  "kernelspec": {
   "display_name": "Python 3",
   "language": "python",
   "name": "python3"
  },
  "language_info": {
   "codemirror_mode": {
    "name": "ipython",
    "version": 3
   },
   "file_extension": ".py",
   "mimetype": "text/x-python",
   "name": "python",
   "nbconvert_exporter": "python",
   "pygments_lexer": "ipython3",
   "version": "3.4.5"
  }
 },
 "nbformat": 4,
 "nbformat_minor": 0
}
