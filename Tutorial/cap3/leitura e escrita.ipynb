{
 "cells": [
  {
   "cell_type": "markdown",
   "metadata": {},
   "source": [
    "## Operações de leitura e escrita de ficheiros\n",
    "\n",
    "* [`open`](#open)\n",
    "* [`read`, `readlines`](#read&nbsp;e&nbsp;readlines)\n",
    "* [`readline`](# readline)\n",
    "* [`seek`, `tell`](# seek&nbsp;e&nbsp;tell)\n",
    "* [`write`](# write)\n",
    "\n",
    "## open\n",
    "\n",
    "A função `open()` abre um ficheiro e devolve um _file handle_ que pode ser usado para ler e/ou escrever para um ficheiro:\n",
    "\n",
    "    f = open('exemplo.txt', 'r')\n",
    "    \n",
    "O segundo argumento, `r`, define o modo como o ficheiro é aberto:\n",
    "* `'r'` - para leitura\n",
    "* `'w'` - para escrita\n",
    "* `'a'` - para escrita (acrescentar no fim)\n",
    "* `'rU'` - para leitura \"universal\" (trata de forma conveniente os diferentes caracteres de fim de linha)\n",
    "\n",
    "Uma forma fácil de iterar sobre um ficheiro é usando um ciclo `for`:\n",
    "\n",
    "    f = open('exemplo_small.txt', 'r')\n",
    "    for linha in f:\n",
    "        print(linha, end='')\n",
    "    f.close()\n",
    "\n",
    "**Nota:** Cada linha lida do ficheiro termina com um carácter de fim de linha. Assim, usa-se a instrução \"`print(linha, end='')`\" para não introduzir uma quebra de linha extra."
   ]
  },
  {
   "cell_type": "code",
   "execution_count": null,
   "metadata": {
    "collapsed": false
   },
   "outputs": [],
   "source": [
    "f = open('exemplo_small.txt', 'r')\n",
    "for linha in f:\n",
    "    print(linha, end='')\n",
    "f.close()"
   ]
  },
  {
   "cell_type": "markdown",
   "metadata": {},
   "source": [
    "## read&nbsp;e&nbsp;readlines"
   ]
  },
  {
   "cell_type": "markdown",
   "metadata": {},
   "source": [
    "As funções `read` e `readline` devolvem o ficheiro inteiro como uma `string`, ou uma lista de `strings` - em que cada entrada da lista é uma linha, respectivamente. \n",
    "Ler um ficheiro todo para uma `string` pode ser vantajoso no caso de se usarem expressões regulares. No entanto, se estivermos a ler um ficheiro de 10GBytes é capaz de não ser uma boa ideia... "
   ]
  },
  {
   "cell_type": "code",
   "execution_count": null,
   "metadata": {
    "collapsed": false
   },
   "outputs": [],
   "source": [
    "f=open('exemplo_small.txt', 'r')\n",
    "uma_linha = f.read()\n",
    "f.close()\n",
    "%whos\n",
    "print (\"\")\n",
    "print (uma_linha)"
   ]
  },
  {
   "cell_type": "code",
   "execution_count": null,
   "metadata": {
    "collapsed": false
   },
   "outputs": [],
   "source": [
    "f=open('exemplo_small.txt', 'r')\n",
    "varias_linhas = f.readlines()\n",
    "f.close()\n",
    "%whos\n",
    "print(\"\")\n",
    "print (varias_linhas[1])"
   ]
  },
  {
   "cell_type": "markdown",
   "metadata": {},
   "source": [
    "## readline\n",
    "\n",
    "O método `readline` permite ler de um ficheiro linha-a-linha. Quando não houver mais nenhuma linha para ler, ele devolve uma `string` vazia."
   ]
  },
  {
   "cell_type": "code",
   "execution_count": null,
   "metadata": {
    "collapsed": false
   },
   "outputs": [],
   "source": [
    "f=open('exemplo_small.txt', 'r')\n",
    "f.readline()"
   ]
  },
  {
   "cell_type": "code",
   "execution_count": null,
   "metadata": {
    "collapsed": false
   },
   "outputs": [],
   "source": [
    "for i in range(4):\n",
    "    f.readline()\n"
   ]
  },
  {
   "cell_type": "code",
   "execution_count": null,
   "metadata": {
    "collapsed": false
   },
   "outputs": [],
   "source": [
    "f.readline()"
   ]
  },
  {
   "cell_type": "code",
   "execution_count": null,
   "metadata": {
    "collapsed": false
   },
   "outputs": [],
   "source": [
    "f.readline() # devolve uma string vazia porque chegou ao fim do ficheiro"
   ]
  },
  {
   "cell_type": "markdown",
   "metadata": {},
   "source": [
    "## seek&nbsp;e&nbsp;tell\n",
    "\n",
    "Existe um índice interno que indica a posição no ficheiro a partir da qual é feita uma operação de escrita e/ou leitura. Esse índice é actualizado automaticamente após cada operação de escrita e/ou leitura. Existe também a possibilidade de o utilizador indicar essa mesma posição através da instrução `seek()`. O argumento da instrução é o `offset` e é indicado em _bytes_.\n",
    "\n",
    "    f.seek(1) # o offset é o segundo byte do ficheiro \n",
    "\n",
    "A instrução tem um segundo parâmetro opcional que indica a partir de que posição se conta o `offset`:\n",
    "* 0 - a partir do início do ficheiro (é esta a opção por defeito)\n",
    "* 1 - a partir da posição corrente\n",
    "* 2 - a partir do fim do ficheiro\n",
    "\n",
    "Tal como nos _slices_, se o `offset` for negativo conta na direcção do início do ficheiro.\n",
    "\n",
    "O comando `tell` indica a posição actual no ficheiro.\n"
   ]
  },
  {
   "cell_type": "code",
   "execution_count": null,
   "metadata": {
    "collapsed": false
   },
   "outputs": [],
   "source": [
    "f=open('exemplo_small.txt', 'r')\n",
    "s = f.readline()\n",
    "print (s)"
   ]
  },
  {
   "cell_type": "code",
   "execution_count": null,
   "metadata": {
    "collapsed": false
   },
   "outputs": [],
   "source": [
    "f.seek(2)\n",
    "s = f.readline()\n",
    "print (s)"
   ]
  },
  {
   "cell_type": "code",
   "execution_count": null,
   "metadata": {
    "collapsed": false
   },
   "outputs": [],
   "source": [
    "f.seek(-15,2) #ultimos 15 caracteres\n",
    "s = f.readline()\n",
    "print (s)"
   ]
  },
  {
   "cell_type": "markdown",
   "metadata": {},
   "source": [
    "## write\n",
    "\n",
    "Para escrever num ficheiro este deve ser _aberto_ com a opção `'w'` ou '`a`'. A diferença entre ambas é que no caso da opção `'w'` é criado um novo ficheiro (apagando tudo o que já existia), e a opção `'a'` acrescenta ao fim do ficheiro.\n",
    "\n",
    "Podem usar-se as funções `write` e `writelines`. A primeira escreve apenas uma linha, enquanto que a última recebe uma lista de `strings`.\n",
    "\n",
    "**NOTA:** em ambos os casos as funções `write` e `writelines` não acrescentam o carácter de mudança de linha `\\n`. Este tem de ser explicitamente adicionado.\n"
   ]
  },
  {
   "cell_type": "markdown",
   "metadata": {},
   "source": [
    "Vamos começar por criar um ficheiro chamado 'file.txt' para teste."
   ]
  },
  {
   "cell_type": "code",
   "execution_count": null,
   "metadata": {
    "collapsed": false
   },
   "outputs": [],
   "source": [
    "%%file file.txt\n",
    "primeira linha\n",
    "segunda linha\n",
    "ultima linha\n",
    "\n"
   ]
  },
  {
   "cell_type": "markdown",
   "metadata": {},
   "source": [
    "Um comando começado por `!` é uma instrução para ser executada pelo sistema operativo. O comando seguinte chama a instrução `cat` (disponível em ambiente UNIX) que mostra o conteúdo de um ficheiro:"
   ]
  },
  {
   "cell_type": "code",
   "execution_count": null,
   "metadata": {
    "collapsed": false
   },
   "outputs": [],
   "source": [
    "!cat 'file.txt'"
   ]
  },
  {
   "cell_type": "code",
   "execution_count": null,
   "metadata": {
    "collapsed": false
   },
   "outputs": [],
   "source": [
    "f=open('file.txt', 'a')\n",
    "f.write('nova linha!\\n')\n",
    "f.close()\n",
    "!cat 'file.txt'"
   ]
  },
  {
   "cell_type": "code",
   "execution_count": null,
   "metadata": {
    "collapsed": false
   },
   "outputs": [],
   "source": [
    "f=open('file.txt', 'a')\n",
    "f.writelines(['mais uma linha!\\n', 'pipocas?\\n'])\n",
    "f.close()\n",
    "!cat 'file.txt'"
   ]
  },
  {
   "cell_type": "markdown",
   "metadata": {},
   "source": [
    "Alternativamente pode usar-se o comando `print` para escrever para um ficheiro, usando a opção `file=` : \n",
    "\n",
    "    print(\"pipocas so para ver filmes!\", file=f)\n",
    "\n",
    "Este ultimo comando já acrescenta automaticamente o carácter de mudança de linha. "
   ]
  },
  {
   "cell_type": "code",
   "execution_count": null,
   "metadata": {
    "collapsed": false
   },
   "outputs": [],
   "source": [
    "f=open('file.txt', 'a')\n",
    "print(\"pipocas so para ver filmes!\", file=f)\n",
    "f.close()\n",
    "!cat 'file.txt'"
   ]
  },
  {
   "cell_type": "code",
   "execution_count": null,
   "metadata": {
    "collapsed": true
   },
   "outputs": [],
   "source": []
  }
 ],
 "metadata": {
  "kernelspec": {
   "display_name": "Python 3",
   "language": "python",
   "name": "python3"
  },
  "language_info": {
   "codemirror_mode": {
    "name": "ipython",
    "version": 3
   },
   "file_extension": ".py",
   "mimetype": "text/x-python",
   "name": "python",
   "nbconvert_exporter": "python",
   "pygments_lexer": "ipython3",
   "version": "3.4.5"
  }
 },
 "nbformat": 4,
 "nbformat_minor": 0
}
