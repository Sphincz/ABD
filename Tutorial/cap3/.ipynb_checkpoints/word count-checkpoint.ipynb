{
 "cells": [
  {
   "cell_type": "markdown",
   "metadata": {},
   "source": [
    "# Exercícios sobre ficheiros\n"
   ]
  },
  {
   "cell_type": "markdown",
   "metadata": {},
   "source": [
    "## A. Contagem de palavras\n",
    "\n",
    "O objectivo deste exercício é desenvolver um programa que abre um ficheiro e conta o número de ocorrências das palavras existentes no ficheiro. Os resultados serão apresentados de várias formas diferentes:\n",
    "* as ocorrências de todas as palavras\n",
    "* as n palavras mais frequentes\n",
    "\n",
    "Vão ser abordados alguns aspectos como a codificação do ficheiro, carácteres com acentos e caracteres de pontuação."
   ]
  },
  {
   "cell_type": "markdown",
   "metadata": {},
   "source": [
    "### 1. Ler um ficheiro codificado em UTF-8\n",
    "\n",
    "Para ler um ficheiro codificado em `UTF-8` pode usar-se a função `open` definida no módulo `codecs`.\n",
    "\n",
    "    import codecs\n",
    "    f = codecs.open('exemplo.txt', 'r', encoding='utf-8')\n",
    "    f.seek(142)\n",
    "    linha = f.readline()\n",
    "    "
   ]
  },
  {
   "cell_type": "code",
   "execution_count": null,
   "metadata": {
    "collapsed": false
   },
   "outputs": [],
   "source": [
    "import codecs\n",
    "f = codecs.open('exemplo.txt', 'r', encoding='utf-8')\n",
    "f.seek(142) # posição 142 para importarmos uma linha em particular\n",
    "linha = f.readline()\n",
    "linha"
   ]
  },
  {
   "cell_type": "markdown",
   "metadata": {},
   "source": [
    "### 2. Remover espaços e caracteres de mudança de linha\n",
    "\n",
    "Para remover espaços no início e/ou no fim de uma `string`, assim como o carácter de mudança de linha `\\n` pode usar-se a função `strip`.\n",
    "\n",
    "_Sugestão:_ a função `strip` pode usar-se logo com a função `readline` (porquê?)\n",
    "\n",
    "    linha = f.readline().strip()"
   ]
  },
  {
   "cell_type": "code",
   "execution_count": null,
   "metadata": {
    "collapsed": false
   },
   "outputs": [],
   "source": [
    "linha = linha.strip()"
   ]
  },
  {
   "cell_type": "code",
   "execution_count": null,
   "metadata": {
    "collapsed": false
   },
   "outputs": [],
   "source": [
    "linha"
   ]
  },
  {
   "cell_type": "markdown",
   "metadata": {},
   "source": [
    "### 3. Remover acentos\n",
    "\n",
    "Para remover acentos, vamos usar um módulo `unidecode` que devolve o carácter ASCII \"mais próximo\" do carácter UTF-8.\n",
    "\n",
    "    from unidecode import unidecode\n",
    "    nova_linha = unidecode(linha)"
   ]
  },
  {
   "cell_type": "code",
   "execution_count": null,
   "metadata": {
    "collapsed": false
   },
   "outputs": [],
   "source": [
    "from unidecode import unidecode\n",
    "nova_linha = unidecode(linha)"
   ]
  },
  {
   "cell_type": "code",
   "execution_count": null,
   "metadata": {
    "collapsed": false
   },
   "outputs": [],
   "source": [
    "nova_linha"
   ]
  },
  {
   "cell_type": "markdown",
   "metadata": {},
   "source": [
    "### 4. Remover os carácteres de pontuação\n",
    "\n",
    "Existem muitas formas de remover os carácteres de pontuação. Vamos ver uma solução baseada em expressões regulares.\n",
    "O módulo `re` implementa expressões regulares.\n",
    "\n",
    "    import re\n",
    "    s = \"string. With. Punctuation?\"\n",
    "    s = re.sub(r'[^\\w\\s]','',s)"
   ]
  },
  {
   "cell_type": "code",
   "execution_count": null,
   "metadata": {
    "collapsed": true
   },
   "outputs": [],
   "source": [
    "import re\n",
    "s = 'string, With. Punctuation? -yes \"sir\"!'\n",
    "s = re.sub(r'[^\\w\\s]','',s)"
   ]
  },
  {
   "cell_type": "code",
   "execution_count": null,
   "metadata": {
    "collapsed": false
   },
   "outputs": [],
   "source": [
    "s"
   ]
  },
  {
   "cell_type": "code",
   "execution_count": null,
   "metadata": {
    "collapsed": true
   },
   "outputs": [],
   "source": [
    "# converter a nova_linha:\n",
    "nova_linha = re.sub(r'[^\\w\\s]','',nova_linha)"
   ]
  },
  {
   "cell_type": "markdown",
   "metadata": {},
   "source": [
    "### 5. Converter as palavras todas em minúsculas.\n",
    "\n",
    "Para compararmos as palavras convém que elas estejam todas escritas em minúsculas. Existe um método que permite fazer isso que é o `lower`.\n",
    "\n",
    "    nova_linha = nova_linha.lower()"
   ]
  },
  {
   "cell_type": "code",
   "execution_count": null,
   "metadata": {
    "collapsed": false
   },
   "outputs": [],
   "source": [
    "nova_linha = nova_linha.lower()\n",
    "print nova_linha"
   ]
  },
  {
   "cell_type": "markdown",
   "metadata": {},
   "source": [
    "### 5. Separar uma linha em palavras\n",
    "\n",
    "Após ser lida uma linha do ficheiro, é necessário separar uma frase em palavras. Para isso pode ser usada a instrução `split()`. O `split` aceita como argumento o carácter para separar uma `string`. Por defeito é o espaço.\n",
    "\n",
    "    linha_final = nova_linha.split()"
   ]
  },
  {
   "cell_type": "code",
   "execution_count": null,
   "metadata": {
    "collapsed": false
   },
   "outputs": [],
   "source": [
    " linha_final = nova_linha.split()\n"
   ]
  },
  {
   "cell_type": "code",
   "execution_count": null,
   "metadata": {
    "collapsed": false
   },
   "outputs": [],
   "source": [
    "linha_final"
   ]
  },
  {
   "cell_type": "markdown",
   "metadata": {},
   "source": [
    "### 6. Desenvolva a função read_file\n",
    "\n",
    "Complete o código da função `read_file` que recebe como argumento o nome de um ficheiro e devolve um dicionário com as ocorrências de cada palavra. Inclua todas as operações que foram visto anteriormente nos pontos 1 a 5.\n",
    "\n",
    "_Nota:_ considere que os números que aparecem também são uma palavra (não é preciso ignorar)."
   ]
  },
  {
   "cell_type": "code",
   "execution_count": null,
   "metadata": {
    "collapsed": true
   },
   "outputs": [],
   "source": [
    "import codecs \n",
    "from unidecode import unidecode\n",
    "import re"
   ]
  },
  {
   "cell_type": "code",
   "execution_count": null,
   "metadata": {
    "collapsed": true
   },
   "outputs": [],
   "source": [
    "def read_file(filename):\n",
    "\n",
    "    word_count = {}\n",
    "    # --- your code here ---\n",
    "    \n",
    "    \n",
    "    return word_count\n",
    "    "
   ]
  },
  {
   "cell_type": "markdown",
   "metadata": {},
   "source": [
    "Crie o dicionário `dic_words` para o ficheiro `exemplo.txt'."
   ]
  },
  {
   "cell_type": "code",
   "execution_count": null,
   "metadata": {
    "collapsed": false
   },
   "outputs": [],
   "source": [
    "dic_words = read_file('exemplo.txt')\n",
    "dic_words['whatsapp'] # resultado esperado: 3"
   ]
  },
  {
   "cell_type": "markdown",
   "metadata": {},
   "source": [
    "### 7. Desenvolva a função print_words"
   ]
  },
  {
   "cell_type": "markdown",
   "metadata": {},
   "source": [
    "Complete a função `print_words(filename)`, que recebe como argumento o nome de um ficheiro e imprime a palavra e a  respectiva contagem, linha-a-linha, ordenadas por ordem alfabética.\n",
    "\n",
    "_Sugestão:_ use a função `sorted`.\n",
    "\n",
    "Um excerto do resultado esperado:\n",
    "    \n",
    "    11 3\n",
    "    11o 1\n",
    "    12 5\n",
    "    13 4\n",
    "    13022016 1\n",
    "    ...\n",
    "    abaixo 1\n",
    "    aberto 1\n",
    "    abertos 1\n",
    "    abordando 1\n",
    "    abordar 1\n",
    "    abre 1\n",
    "    acaba 1\n",
    "    ..."
   ]
  },
  {
   "cell_type": "code",
   "execution_count": null,
   "metadata": {
    "collapsed": false
   },
   "outputs": [],
   "source": [
    "def print_words(filename):\n",
    "    # --- your code here ---"
   ]
  },
  {
   "cell_type": "code",
   "execution_count": null,
   "metadata": {
    "collapsed": false
   },
   "outputs": [],
   "source": [
    "print_words('exemplo.txt')"
   ]
  },
  {
   "cell_type": "markdown",
   "metadata": {},
   "source": [
    "### 8. Desenvolva a função print_top_n\n",
    "\n",
    "Complete a função `print_top_n` que imprime as `n` palavras mais usadas.\n",
    "\n",
    "_Sugestão:_ use a função `read_file` para obter um dicionário das palavras. Converta o dicionário numa lista de tuplos usando a função `.items()`. Use depois a função `sorted` usando como `key` uma função `lambda` que devolve o segundo valor de um tuplo.\n",
    "\n",
    "O resultado esperado para `print_top_n('exemplo.txt', 20)` é:\n",
    "\n",
    "    a 209\n",
    "    e 203\n",
    "    que 197\n",
    "    de 189\n",
    "    o 142\n",
    "    nao 67\n",
    "    os 66\n",
    "    para 61\n",
    "    da 60\n",
    "    um 50\n",
    "    as 48\n",
    "    geracao 47\n",
    "    uma 46\n",
    "    em 46\n",
    "    com 43\n",
    "    se 38\n",
    "    dos 34\n",
    "    no 34\n",
    "    diz 34\n",
    "    das 33"
   ]
  },
  {
   "cell_type": "code",
   "execution_count": null,
   "metadata": {
    "collapsed": false
   },
   "outputs": [],
   "source": [
    "def print_top_n(filename, n):\n",
    "    # --- your code here ---"
   ]
  },
  {
   "cell_type": "code",
   "execution_count": null,
   "metadata": {
    "collapsed": false
   },
   "outputs": [],
   "source": [
    "print_top_n('exemplo.txt', 20)"
   ]
  }
 ],
 "metadata": {
  "kernelspec": {
   "display_name": "Python 2",
   "language": "python",
   "name": "python2"
  },
  "language_info": {
   "codemirror_mode": {
    "name": "ipython",
    "version": 2
   },
   "file_extension": ".py",
   "mimetype": "text/x-python",
   "name": "python",
   "nbconvert_exporter": "python",
   "pygments_lexer": "ipython2",
   "version": "2.7.11"
  }
 },
 "nbformat": 4,
 "nbformat_minor": 0
}
