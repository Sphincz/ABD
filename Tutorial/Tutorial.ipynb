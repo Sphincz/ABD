{
 "cells": [
  {
   "cell_type": "markdown",
   "metadata": {},
   "source": [
    "#  Algoritmos para BIGDATA\n",
    "\n",
    "# \"The not so short tutorial\" para Python com Jupyter\n",
    "\n",
    "## Versão 1.2 - Outubro 2017\n",
    "\n",
    "### Autor: João Oliveira\n",
    "Gralhas e/ou sugestões são bem vindas para o email: `joao.p.oliveira@iscte.pt`"
   ]
  },
  {
   "cell_type": "markdown",
   "metadata": {},
   "source": [
    "## Introdução \n",
    "\n",
    "A linguagem de programação [**`python`**](https://en.wikipedia.org/wiki/Python_%28programming_language%29) é conhecida como uma linguagem de _scripting_ (_scripting language_).  Na verdade ela é muito mais do que uma simples linguagem de _scripting_. O `python`é uma poderosa linguagem de programação dinâmica de uso geral (_dynanic high-level general-purpose languages_). \n",
    "A sua filosofia reforça a legibilidade do código, e a sua sintaxe permite expressar um determinado conceito em menos linhas de código do que as seriam necessárias numa outra linguagem como `C++` ou `Java`. A linguagem disponibiliza construções simples que permite programas *limpos* quer em pequena ou larga escala.\n",
    "\n",
    "O `python` suporta a programação por múltiplos paradigmas, incluíndo a programação por objectos, imperativa e funcional, e procedimental. Possui um sistema de verificação de sintaxe dinâmico (em tempo real), um sistema de gestão automático de memória, e apresenta uma biblioteca grande e abrangente.\n",
    "\n",
    "Existem interpretadores _open source_ de `python` para os vários sistemas operativos, o que permite a execução de `python` numa ampla variedade de sistemas. Existem igualmente ferramentas que transformam o código `python` em programas executáveis _stand-alone_, permitindo por isso a distribuição de _software_ baseado em `python` sem exigir a instalação de um interpretador."
   ]
  },
  {
   "cell_type": "markdown",
   "metadata": {},
   "source": [
    "## Instruções\n",
    "\n",
    "O conteúdo deste tutorial está divido em vários partes. Para aceder ao conteúdo de um determinado assunto, carregue no respectivo link na secção [conteúdo](#Conteúdo).\n",
    "\n",
    "## Jupyter notebook\n",
    "\n",
    "Os notebooks são documentos produzidos pela aplicação Jupyter Notebook que contêm código (e.g. python), texto e figuras (parágrafos, equações, figuras, links, etc...). \n",
    "Os notebook são documentos que usualmente descrevem um determinado problema, apresentam a análise de resultados (figuras, tabelas, etc...), e contêm o código que suporta essa análise e que pode ser localmente executado \\[[2](http://jupyter-notebook-beginner-guide.readthedocs.org/en/latest/)\\].\n",
    "\n",
    "Um notebook é composto por um conjunto de células, que podem ser de dois tipos: **markdown** e **código**. As células do tipo **markdown** podem conter texto, figuras, tabelas, links etc., e as céluas do tipo **código** contém, no nosso caso, as instruções em *python* (o Jupyter suporta outras linguagens de programação).\n",
    "\n",
    "Com as setas do teclado é possível escolher qual a célula que se quer editar. O Jupyter tem dois *input modes* a partir do teclado:\n",
    "\n",
    "* **Edit mode**: permite escrever código/texto numa célula e é indicado pelo bordo verde à volta de uma célula;\n",
    "* **Command mode**: o teclado aceita comandos (estilo *shortcuts*), e é indicado pelo bordo cinzento à volta de uma célula.\n",
    "\n",
    "Para entrar no modo **comando** pressiona-se a tecla Esc. Para entrar no modo **edit mode** basta pressionar a tecla Enter. Para ver a lista de comandos disponívels, pressione a tecla **H** no modo **comando**. \n",
    "\n",
    "Para interpretar o texto ou executar o código de uma determinada célula, carregue em Shift-Enter. Existem várias variações para a tecla Enter com comportamentos diferentes:\n",
    "- pressione a tecla `Enter` para criar uma nova linha numa célula e não executar a célula\n",
    "- pressione `Shift + Enter` para executar a célula e passar à célula seguinte\n",
    "- pressione `Alt + Enter` para executar a célula e acrescentar uma nova célula logo a seguir à atual\n",
    "- pressione `Ctrl + Enter` para executar o conteúdo de uma célula quando não se quer gravar o output\n",
    "\n",
    "\n",
    "As céluas de código, antes de executadas, apresentam do lado esquerdo o texto: `IN [ ]:`  \n",
    "Durante a execução aparece um asterísco entre os parêntesis: `IN [*]:`  \n",
    "Após a execução, aparece um número que indica a ordem de execução das instruções da célula, desde o início da sessão. Se uma célula foi a segunda a ser executada aparece `IN [2]:`\n",
    "\n",
    "No modo **comando** é possível transformar uma célula **código** em **markdown** (e vice-versa), pressionando respectivamente a tecla **Y** ou **M**.\n",
    "\n",
    "Para terminar, os notebooks de python para o Jupyter são ficheiros de texto, e são guardados no disco com a terminação `.ipynb` no formato JSON.\n",
    "\n"
   ]
  },
  {
   "cell_type": "markdown",
   "metadata": {},
   "source": [
    "## Conteúdo\n",
    "\n",
    "1. Introdução\n",
    "    * [Comandos simples e ambiente de trabalho](cap1/comandos_simples_workspace.ipynb)\n",
    "    * [Tipos de dados primitivos](cap1/dados_primitivos.ipynb)\n",
    "    * [Estruturas de dados](cap1/tuplos_arrays_dics.ipynb) (Listas, tuplos, dicionários e sets)\n",
    "    * [Estruturas de controlo](cap1/estruturas_controlo.ipynb)\n",
    "    * [Funções](cap1/funcoes.ipynb)\n",
    "    * [Exercícios](cap1/exercicios.ipynb)\n",
    "2. Vectores e matrizes\n",
    "    * [Scientific python](cap2/Scientific python.ipynb)\n",
    "    * Python Pandas\n",
    "    * Exercícios\n",
    "3. Manipulação de ficheiros\n",
    "    * [Operações de leitura e escrita](cap3/leitura e escrita.ipynb)\n",
    "    * [Exercícios](cap3/word count.ipynb)\n",
    "4. Visualização\n",
    "    * Gráficos\n",
    "    * Grafos\n",
    "    * Exercícios\n",
    "5. Apache Spark\n",
    "    * Apache Spark\n",
    "    * Exercícios"
   ]
  },
  {
   "cell_type": "markdown",
   "metadata": {},
   "source": [
    "## Referências\n",
    "\n",
    "\\[1\\] [Linguagem python (wikipedia)](https://en.wikipedia.org/wiki/Python_%28programming_language%29)\n",
    "\n",
    "\\[2\\] [Jupyter notebook beginner's guide](http://jupyter-notebook-beginner-guide.readthedocs.org/en/latest/)"
   ]
  },
  {
   "cell_type": "markdown",
   "metadata": {},
   "source": [
    "# Histórico\n",
    "\n",
    "** Versão 1.2 **\n",
    "\n",
    "- corrigido um erro no ficheiro `aux_functions.py` (no update para `python 3`)\n",
    "\n",
    "** Versão 1.1 **\n",
    "\n",
    "- update para `python 3`\n",
    "- melhorada a parte sobre _magic commands_\n",
    "\n",
    "** Versão 1.0 **\n",
    "\n",
    "- Versão inicial do Tutorial (ainda incompleto)\n",
    "- Para `python 2`"
   ]
  }
 ],
 "metadata": {
  "kernelspec": {
   "display_name": "Python 3",
   "language": "python",
   "name": "python3"
  },
  "language_info": {
   "codemirror_mode": {
    "name": "ipython",
    "version": 3
   },
   "file_extension": ".py",
   "mimetype": "text/x-python",
   "name": "python",
   "nbconvert_exporter": "python",
   "pygments_lexer": "ipython3",
   "version": "3.6.2"
  }
 },
 "nbformat": 4,
 "nbformat_minor": 1
}
