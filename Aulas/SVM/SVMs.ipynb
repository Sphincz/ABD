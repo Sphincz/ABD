{
 "cells": [
  {
   "cell_type": "markdown",
   "metadata": {},
   "source": [
    "# Exemplo Support Vector Machines (SVM)"
   ]
  },
  {
   "cell_type": "markdown",
   "metadata": {},
   "source": [
    "### 1. Importar as bibliotecas e definição de funções"
   ]
  },
  {
   "cell_type": "code",
   "execution_count": null,
   "metadata": {},
   "outputs": [],
   "source": [
    "%pylab inline\n",
    "import scipy.io as sio\n",
    "import sklearn.svm as svm"
   ]
  },
  {
   "cell_type": "code",
   "execution_count": null,
   "metadata": {
    "collapsed": true
   },
   "outputs": [],
   "source": [
    "def plotDataWithBoundary(X, y, model, svectors = False):\n",
    "    \n",
    "    # plot the line, the points, and the nearest vectors to the plane\n",
    "    fignum = 1\n",
    "    #plt.figure(fignum, figsize=(4, 3))\n",
    "    plt.clf()\n",
    "\n",
    "    if svectors:\n",
    "        plt.scatter(model.support_vectors_[:, 0], model.support_vectors_[:, 1], s=80,\n",
    "                facecolors='none', zorder=10)\n",
    "    \n",
    "\n",
    "    pos = find(y==1)\n",
    "    neg = find(y==0)\n",
    "    plot(X[pos,0], X[pos,1], 'k+', markersize=7)\n",
    "    plot(X[neg,0], X[neg,1], 'ko', markerfacecolor=\"lightgreen\", markersize=5)\n",
    "    \n",
    "    \n",
    "    #plt.axis('equal')\n",
    "    x_min = min(X[:,0])\n",
    "    x_max = max(X[:,0])\n",
    "    y_min = min(X[:,1])\n",
    "    y_max = max(X[:,1])\n",
    "\n",
    "    XX, YY = np.mgrid[x_min:x_max:200j, y_min:y_max:200j]\n",
    "    Z = clf.decision_function(np.c_[XX.ravel(), YY.ravel()])\n",
    "\n",
    "    Z = Z.reshape(XX.shape)\n",
    "    plt.contour(XX, YY, Z, colors=['k', 'b', 'k'], linestyles=['--', '-', '--'],\n",
    "                levels=[-.5, 0, .5])\n",
    "\n",
    "    deltax = (x_max-x_min)*0.1\n",
    "    deltay = (y_max-y_min)*0.1\n",
    "    plt.xlim(x_min-deltax, x_max+deltax)\n",
    "    plt.ylim(y_min-deltay, y_max+deltay)\n"
   ]
  },
  {
   "cell_type": "markdown",
   "metadata": {},
   "source": [
    "### 2. Exemplo #1"
   ]
  },
  {
   "cell_type": "code",
   "execution_count": null,
   "metadata": {
    "collapsed": true
   },
   "outputs": [],
   "source": [
    "# Importar dados de um ficheiro matlab\n",
    "matdata = sio.loadmat('data1.mat')\n",
    "X = matdata['X']\n",
    "y = matdata['y']"
   ]
  },
  {
   "cell_type": "markdown",
   "metadata": {},
   "source": [
    "Recorde que treinar uma SVM envolve a minimização de uma função:\n",
    "\n",
    "$$\\min_\\theta\\, C \\left[ \\sum_{i=1}^{m}\n",
    "\\max\\{ 0, 1-y^{(i)} f(x^{(i)})\\} \\right] +\\frac{1}{2} \\sum_{j=0}^{n}\\theta_j^2$$\n",
    "\n",
    "em que\n",
    "\n",
    "$$ f(x) = \\theta^T x + b$$.\n",
    "\n",
    "Note que o parâmetro $C$ multipla o termo de ajuste aos dados (_error term_), logo:\n",
    "\n",
    "- um valor muito grande não permite classificação com erros;\n",
    "- um valor baixo permite que hajam erros, e a SVM generaliza melhor.\n",
    "\n",
    "**Execute o código da seguinte célula** com os seguintes valores: $C = 100$, $C = 10$, $C = 1$, $C = 0.1$. "
   ]
  },
  {
   "cell_type": "code",
   "execution_count": null,
   "metadata": {},
   "outputs": [],
   "source": [
    "clf = svm.SVC(kernel='linear',C=100, tol=1e-3)\n",
    "clf.fit(X, y.ravel())\n",
    "plotDataWithBoundary(X, y, clf)"
   ]
  },
  {
   "cell_type": "markdown",
   "metadata": {},
   "source": [
    "Fazendo `svectors = True` na função `plotDataWithBoundary` é possível visualizar os _support vectors_."
   ]
  },
  {
   "cell_type": "code",
   "execution_count": null,
   "metadata": {},
   "outputs": [],
   "source": [
    "clf = svm.SVC(kernel='linear',C=1, tol=1e-3)\n",
    "clf.fit(X, y.ravel())\n",
    "plotDataWithBoundary(X, y, clf, svectors = True)"
   ]
  },
  {
   "cell_type": "markdown",
   "metadata": {},
   "source": [
    "### 3. Exemplo #2"
   ]
  },
  {
   "cell_type": "code",
   "execution_count": null,
   "metadata": {
    "collapsed": true
   },
   "outputs": [],
   "source": [
    "matdata = sio.loadmat('data2.mat')\n",
    "X = matdata['X']\n",
    "y = matdata['y']"
   ]
  },
  {
   "cell_type": "markdown",
   "metadata": {},
   "source": [
    "*** Experimente a célula seguinte para diferentes valores de $C$***"
   ]
  },
  {
   "cell_type": "code",
   "execution_count": null,
   "metadata": {},
   "outputs": [],
   "source": [
    "gamma = 1.0/2/0.1**2\n",
    "clf = svm.SVC(kernel='rbf',C=1, tol=1e-3, gamma=gamma)\n",
    "clf.fit(X, y.ravel())\n",
    "plotDataWithBoundary(X, y, clf)"
   ]
  },
  {
   "cell_type": "markdown",
   "metadata": {},
   "source": [
    "### 4. Exemplo #3"
   ]
  },
  {
   "cell_type": "code",
   "execution_count": null,
   "metadata": {
    "collapsed": true
   },
   "outputs": [],
   "source": [
    "matdata = sio.loadmat('data3.mat')\n",
    "X = matdata['X']\n",
    "y = matdata['y']"
   ]
  },
  {
   "cell_type": "markdown",
   "metadata": {},
   "source": [
    "*** Experimente a célula seguinte para diferentes valores de $C$***"
   ]
  },
  {
   "cell_type": "code",
   "execution_count": null,
   "metadata": {},
   "outputs": [],
   "source": [
    "clf = svm.SVC(kernel='rbf',C=1, tol=1e-3, gamma=50)\n",
    "clf.fit(X, y.ravel())\n",
    "plotDataWithBoundary(X, y, clf)"
   ]
  }
 ],
 "metadata": {
  "kernelspec": {
   "display_name": "Python 3",
   "language": "python",
   "name": "python3"
  },
  "language_info": {
   "codemirror_mode": {
    "name": "ipython",
    "version": 3
   },
   "file_extension": ".py",
   "mimetype": "text/x-python",
   "name": "python",
   "nbconvert_exporter": "python",
   "pygments_lexer": "ipython3",
   "version": "3.6.2"
  }
 },
 "nbformat": 4,
 "nbformat_minor": 1
}
