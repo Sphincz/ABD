{
 "cells": [
  {
   "cell_type": "markdown",
   "metadata": {},
   "source": [
    "# Introdução ao Python Pandas\n",
    "\n",
    "**Data:** 23 Novembro 2017 \n",
    "\n",
    "Conteúdo:\n",
    "\n",
    "- [Criação de um DataFrame](#Criação&nbsp;de&nbsp;um&nbsp;DataFrame)\n",
    "- [Visualização do DataFrame](#Visualização&nbsp;do&nbsp;DataFrame)\n",
    "- [Acesso aos dados](#Acesso&nbsp;aos&nbsp;dados)\n",
    "- [_Missing data_](#Missing&nbsp;data)\n",
    "- [Operações sobre os dados](#Operações&nbsp;sobre&nbsp;os&nbsp;dados)\n",
    "- [Criação de um DataFrame]()"
   ]
  },
  {
   "cell_type": "code",
   "execution_count": null,
   "metadata": {
    "collapsed": false
   },
   "outputs": [],
   "source": [
    "import pandas as pd\n",
    "import numpy as np"
   ]
  },
  {
   "cell_type": "markdown",
   "metadata": {},
   "source": [
    "---\n",
    "# Criação&nbsp;de&nbsp;um&nbsp;DataFrame\n"
   ]
  },
  {
   "cell_type": "markdown",
   "metadata": {},
   "source": [
    "## A partir de um dicionário"
   ]
  },
  {
   "cell_type": "code",
   "execution_count": null,
   "metadata": {
    "collapsed": true
   },
   "outputs": [],
   "source": [
    "data = {'dia': ['Seg', 'Seg', 'Ter', 'Ter'],\n",
    "         'Cidade': ['Lisboa', 'Porto', 'Lisboa', 'Porto'],\n",
    "         'Visitantes':[100, 58, 135, 200],\n",
    "         'Gasto médio': [25.3, 20.1, 35.7, 30.2]}"
   ]
  },
  {
   "cell_type": "code",
   "execution_count": null,
   "metadata": {
    "collapsed": false
   },
   "outputs": [],
   "source": [
    "users_df = pd.DataFrame(data)\n",
    "users_df"
   ]
  },
  {
   "cell_type": "code",
   "execution_count": null,
   "metadata": {
    "collapsed": false
   },
   "outputs": [],
   "source": [
    "print(users_df)"
   ]
  },
  {
   "cell_type": "markdown",
   "metadata": {},
   "source": [
    "## A partir de um dicionário de listas"
   ]
  },
  {
   "cell_type": "code",
   "execution_count": null,
   "metadata": {
    "collapsed": true
   },
   "outputs": [],
   "source": [
    "cidades = ['Lisboa', 'Porto', 'Lisboa', 'Porto']\n",
    "visitantes = [100, 58, 135, 200]\n",
    "gasto_medio = [25.3, 20.1, 35.7, 30.2]\n",
    "dia = ['Seg', 'Seg', 'Ter', 'Ter']"
   ]
  },
  {
   "cell_type": "code",
   "execution_count": null,
   "metadata": {
    "collapsed": true
   },
   "outputs": [],
   "source": [
    "lista_labels = ['Cidade', 'dia', 'Visitantes', 'Gasto médio']\n",
    "lista_cols = [cidades, dia, visitantes, gasto_medio]"
   ]
  },
  {
   "cell_type": "code",
   "execution_count": null,
   "metadata": {
    "collapsed": false
   },
   "outputs": [],
   "source": [
    "zipped = list(zip(lista_labels, lista_cols))\n",
    "print(zipped)"
   ]
  },
  {
   "cell_type": "code",
   "execution_count": null,
   "metadata": {
    "collapsed": false
   },
   "outputs": [],
   "source": [
    "dict(zipped)"
   ]
  },
  {
   "cell_type": "code",
   "execution_count": null,
   "metadata": {
    "collapsed": false
   },
   "outputs": [],
   "source": [
    "users_df = pd.DataFrame(dict(zipped))\n",
    "users_df"
   ]
  },
  {
   "cell_type": "markdown",
   "metadata": {},
   "source": [
    "## A partir de um csv"
   ]
  },
  {
   "cell_type": "code",
   "execution_count": null,
   "metadata": {
    "collapsed": false
   },
   "outputs": [],
   "source": [
    "users_df = pd.read_csv('data.csv')\n",
    "users_df"
   ]
  },
  {
   "cell_type": "markdown",
   "metadata": {},
   "source": [
    "## A partir de um excel"
   ]
  },
  {
   "cell_type": "code",
   "execution_count": null,
   "metadata": {
    "collapsed": false
   },
   "outputs": [],
   "source": [
    "users_df = pd.read_excel('data.xlsx')\n",
    "users_df"
   ]
  },
  {
   "cell_type": "markdown",
   "metadata": {},
   "source": [
    "## Opções do csv"
   ]
  },
  {
   "cell_type": "code",
   "execution_count": null,
   "metadata": {
    "collapsed": false
   },
   "outputs": [],
   "source": [
    "users_df = pd.read_csv('csaude1.csv')\n",
    "users_df"
   ]
  },
  {
   "cell_type": "markdown",
   "metadata": {},
   "source": [
    "### Indicar a coluna que será usada como `index`:"
   ]
  },
  {
   "cell_type": "code",
   "execution_count": null,
   "metadata": {
    "collapsed": false,
    "scrolled": false
   },
   "outputs": [],
   "source": [
    "csaude1_df = pd.read_csv('csaude1.csv', index_col='mes')\n",
    "csaude1_df"
   ]
  },
  {
   "cell_type": "code",
   "execution_count": null,
   "metadata": {
    "collapsed": false
   },
   "outputs": [],
   "source": [
    "csaude2_df = pd.read_csv('csaude2.csv', index_col='mes')\n",
    "csaude2_df"
   ]
  },
  {
   "cell_type": "markdown",
   "metadata": {},
   "source": [
    "---\n",
    "# Visualização&nbsp;do&nbsp;DataFrame"
   ]
  },
  {
   "cell_type": "code",
   "execution_count": null,
   "metadata": {
    "collapsed": false
   },
   "outputs": [],
   "source": [
    "print(csaude1_df)"
   ]
  },
  {
   "cell_type": "code",
   "execution_count": null,
   "metadata": {
    "collapsed": false
   },
   "outputs": [],
   "source": [
    "type(csaude1_df)"
   ]
  },
  {
   "cell_type": "code",
   "execution_count": null,
   "metadata": {
    "collapsed": false
   },
   "outputs": [],
   "source": [
    "csaude1_df.shape"
   ]
  },
  {
   "cell_type": "markdown",
   "metadata": {},
   "source": [
    "## Índices, colunas e valores\n",
    "\n",
    " - `.index`: devolve os valores da coluna `index`; \n",
    " - `.columns`: devolve o nome das colunas;\n",
    " - `.values`: devolve os valores das colunas como um array numpy."
   ]
  },
  {
   "cell_type": "code",
   "execution_count": null,
   "metadata": {
    "collapsed": false
   },
   "outputs": [],
   "source": [
    "csaude1_df.index"
   ]
  },
  {
   "cell_type": "code",
   "execution_count": null,
   "metadata": {
    "collapsed": false
   },
   "outputs": [],
   "source": [
    "type(csaude1_df.index)"
   ]
  },
  {
   "cell_type": "code",
   "execution_count": null,
   "metadata": {
    "collapsed": false
   },
   "outputs": [],
   "source": [
    "csaude1_df.columns"
   ]
  },
  {
   "cell_type": "code",
   "execution_count": null,
   "metadata": {
    "collapsed": false
   },
   "outputs": [],
   "source": [
    "type(csaude1_df.columns)"
   ]
  },
  {
   "cell_type": "code",
   "execution_count": null,
   "metadata": {
    "collapsed": false
   },
   "outputs": [],
   "source": [
    "csaude1_df.values"
   ]
  },
  {
   "cell_type": "code",
   "execution_count": null,
   "metadata": {
    "collapsed": false
   },
   "outputs": [],
   "source": [
    "type(csaude1_df.values)"
   ]
  },
  {
   "cell_type": "markdown",
   "metadata": {},
   "source": [
    "## Resumo do DataFrame\n",
    "\n",
    "Os métodos `info()` e `describe()` permitem obter informação sobre um `DataFrame`: \n",
    "\n",
    "- `info()` informação sobre as colunas e os tipos de dados\n",
    "- `describe()` uma análise estatística simples doas valores das colunas"
   ]
  },
  {
   "cell_type": "code",
   "execution_count": null,
   "metadata": {
    "collapsed": false
   },
   "outputs": [],
   "source": [
    "csaude1_df.info()"
   ]
  },
  {
   "cell_type": "code",
   "execution_count": null,
   "metadata": {
    "collapsed": false
   },
   "outputs": [],
   "source": [
    "csaude1_df.describe()"
   ]
  },
  {
   "cell_type": "markdown",
   "metadata": {},
   "source": [
    "## Topo e fim\n",
    "\n",
    "As funções `head` e `tail` permitem ver as primeiras ou as últimas colunas de um `DataFrame`."
   ]
  },
  {
   "cell_type": "code",
   "execution_count": null,
   "metadata": {
    "collapsed": false
   },
   "outputs": [],
   "source": [
    "csaude1_df.head(3)"
   ]
  },
  {
   "cell_type": "code",
   "execution_count": null,
   "metadata": {
    "collapsed": false
   },
   "outputs": [],
   "source": [
    "csaude1_df.tail(2)"
   ]
  },
  {
   "cell_type": "markdown",
   "metadata": {},
   "source": [
    "## Broadcasting\n"
   ]
  },
  {
   "cell_type": "markdown",
   "metadata": {},
   "source": [
    "### Acrescentar uma coluna com o mesmo valor em cada entrada"
   ]
  },
  {
   "cell_type": "code",
   "execution_count": null,
   "metadata": {
    "collapsed": false
   },
   "outputs": [],
   "source": [
    "csaude1_df['acidentes'] = 0.0\n",
    "csaude1_df"
   ]
  },
  {
   "cell_type": "markdown",
   "metadata": {},
   "source": [
    "### Mudar o `index` de um `DataFrame`"
   ]
  },
  {
   "cell_type": "code",
   "execution_count": null,
   "metadata": {
    "collapsed": false
   },
   "outputs": [],
   "source": [
    "csaude1_df.index = ['A', 'B', 'C', 'D', 'E', 'F']\n",
    "csaude1_df"
   ]
  },
  {
   "cell_type": "code",
   "execution_count": null,
   "metadata": {
    "collapsed": false
   },
   "outputs": [],
   "source": [
    "csaude1_df.index = ['Jan', 'Fev', 'Mar', 'Abr', 'Mai', 'Jun']\n",
    "csaude1_df"
   ]
  },
  {
   "cell_type": "markdown",
   "metadata": {},
   "source": [
    "### Mudar o nome das columas de um `DataFrame`"
   ]
  },
  {
   "cell_type": "code",
   "execution_count": null,
   "metadata": {
    "collapsed": false
   },
   "outputs": [],
   "source": [
    "csaude1_df.columns = ['A', 'B','C', 'D', 'E', 'F']\n",
    "csaude1_df"
   ]
  },
  {
   "cell_type": "code",
   "execution_count": null,
   "metadata": {
    "collapsed": false
   },
   "outputs": [],
   "source": [
    "csaude1_df.columns=['utentes', 'consultas', 'faltas', 'tempo espera', 'epoca', 'acidentes']\n",
    "csaude1_df"
   ]
  },
  {
   "cell_type": "markdown",
   "metadata": {},
   "source": [
    "---\n",
    "# Acesso&nbsp;aos&nbsp;dados"
   ]
  },
  {
   "cell_type": "markdown",
   "metadata": {},
   "source": [
    "## Usando os atributos"
   ]
  },
  {
   "cell_type": "code",
   "execution_count": null,
   "metadata": {
    "collapsed": false,
    "scrolled": true
   },
   "outputs": [],
   "source": [
    "csaude1_df['consultas']['Jan']"
   ]
  },
  {
   "cell_type": "code",
   "execution_count": null,
   "metadata": {
    "collapsed": false
   },
   "outputs": [],
   "source": [
    "csaude1_df['faltas']['Abr']"
   ]
  },
  {
   "cell_type": "markdown",
   "metadata": {},
   "source": [
    "## Usando o .loc"
   ]
  },
  {
   "cell_type": "code",
   "execution_count": null,
   "metadata": {
    "collapsed": false
   },
   "outputs": [],
   "source": [
    "csaude1_df.loc['Jan', 'consultas']"
   ]
  },
  {
   "cell_type": "code",
   "execution_count": null,
   "metadata": {
    "collapsed": false
   },
   "outputs": [],
   "source": [
    "csaude1_df.loc['Jan', ['consultas', 'faltas']]"
   ]
  },
  {
   "cell_type": "code",
   "execution_count": null,
   "metadata": {
    "collapsed": false
   },
   "outputs": [],
   "source": [
    "csaude1_df.loc[['Jan', 'Jun'], 'tempo espera']"
   ]
  },
  {
   "cell_type": "code",
   "execution_count": null,
   "metadata": {
    "collapsed": false,
    "scrolled": true
   },
   "outputs": [],
   "source": [
    "csaude1_df.loc['Mar':'Jun']"
   ]
  },
  {
   "cell_type": "markdown",
   "metadata": {},
   "source": [
    "**Q1:** Obtenha o seguinte _output_:\n",
    "\n",
    "| \t| consultas |\tfaltas|\n",
    "|:-:|:-|:-|\n",
    "|Mar| \t87| \t2|\n",
    "|Abr| \t68| \t15|\n",
    "|Mai| \t95| \t4|\n",
    "|Jun| \t110| \t8|"
   ]
  },
  {
   "cell_type": "code",
   "execution_count": null,
   "metadata": {
    "collapsed": false
   },
   "outputs": [],
   "source": []
  },
  {
   "cell_type": "markdown",
   "metadata": {},
   "source": [
    "## Usando o .iloc"
   ]
  },
  {
   "cell_type": "code",
   "execution_count": null,
   "metadata": {
    "collapsed": false
   },
   "outputs": [],
   "source": [
    "csaude1_df"
   ]
  },
  {
   "cell_type": "markdown",
   "metadata": {},
   "source": [
    "### Faltas em Abril:"
   ]
  },
  {
   "cell_type": "code",
   "execution_count": null,
   "metadata": {
    "collapsed": false
   },
   "outputs": [],
   "source": [
    "# Faltas em Abril \n",
    "csaude1_df.iloc[3,2]"
   ]
  },
  {
   "cell_type": "markdown",
   "metadata": {},
   "source": [
    "### Consultas ao longo dos meses:"
   ]
  },
  {
   "cell_type": "code",
   "execution_count": null,
   "metadata": {
    "collapsed": false
   },
   "outputs": [],
   "source": [
    "csaude1_df.iloc[:,1]"
   ]
  },
  {
   "cell_type": "markdown",
   "metadata": {},
   "source": [
    "### Consultas e tempo de espera de Março a Junho"
   ]
  },
  {
   "cell_type": "code",
   "execution_count": null,
   "metadata": {
    "collapsed": false
   },
   "outputs": [],
   "source": [
    "csaude1_df.iloc[2:, [1, 3]]"
   ]
  },
  {
   "cell_type": "markdown",
   "metadata": {},
   "source": [
    "**Q2:** Obtenha o seguinte _output_:\n",
    "\n",
    "\n",
    "\n",
    "|\t| utentes| \tconsultas| \tfaltas|\n",
    "|:-:|:-|:-|:-|\n",
    "|Jan| \t350| \t90| \t5|\n",
    "|Mar| \t360| \t87| \t2|\n",
    "|Mai| \t370|\t95| \t4|\n"
   ]
  },
  {
   "cell_type": "code",
   "execution_count": null,
   "metadata": {
    "collapsed": false
   },
   "outputs": [],
   "source": []
  },
  {
   "cell_type": "markdown",
   "metadata": {},
   "source": [
    "## Ordenação\n",
    "\n",
    "**Atenção**: as funções seguintes devolvem um novo `DataFrame`, isto é, não ordenam o próprio!"
   ]
  },
  {
   "cell_type": "code",
   "execution_count": null,
   "metadata": {
    "collapsed": false
   },
   "outputs": [],
   "source": [
    "csaude1_df.sort_index(axis=0, ascending=False)"
   ]
  },
  {
   "cell_type": "code",
   "execution_count": null,
   "metadata": {
    "collapsed": false
   },
   "outputs": [],
   "source": [
    "csaude1_df.sort_index(axis=1, ascending=True)"
   ]
  },
  {
   "cell_type": "code",
   "execution_count": null,
   "metadata": {
    "collapsed": false
   },
   "outputs": [],
   "source": [
    "csaude1_df.sort_values(by='tempo espera')"
   ]
  },
  {
   "cell_type": "markdown",
   "metadata": {},
   "source": [
    "## Boleanos"
   ]
  },
  {
   "cell_type": "markdown",
   "metadata": {},
   "source": [
    "### Quais os meses em que houve mais que 90 consultas?"
   ]
  },
  {
   "cell_type": "code",
   "execution_count": null,
   "metadata": {
    "collapsed": false
   },
   "outputs": [],
   "source": [
    "csaude1_df.consultas > 90"
   ]
  },
  {
   "cell_type": "code",
   "execution_count": null,
   "metadata": {
    "collapsed": false
   },
   "outputs": [],
   "source": [
    "csaude1_df['consultas']>90"
   ]
  },
  {
   "cell_type": "markdown",
   "metadata": {},
   "source": [
    "### Pesquisa "
   ]
  },
  {
   "cell_type": "code",
   "execution_count": null,
   "metadata": {
    "collapsed": false
   },
   "outputs": [],
   "source": [
    "maior_movimento = csaude1_df.consultas>90\n",
    "csaude1_df[maior_movimento]"
   ]
  },
  {
   "cell_type": "markdown",
   "metadata": {},
   "source": [
    "## Combinar filtros"
   ]
  },
  {
   "cell_type": "code",
   "execution_count": null,
   "metadata": {
    "collapsed": false
   },
   "outputs": [],
   "source": [
    "csaude1_df[(csaude1_df.consultas >=80) & (csaude1_df.faltas < 7)]"
   ]
  },
  {
   "cell_type": "code",
   "execution_count": null,
   "metadata": {
    "collapsed": false
   },
   "outputs": [],
   "source": [
    "csaude1_df[(csaude1_df.consultas >=90) | (csaude1_df['tempo espera'] < 5)]"
   ]
  },
  {
   "cell_type": "markdown",
   "metadata": {},
   "source": [
    "**Q3:** Obtenha um `DataFrame` cujas entradas correspondem aos meses em que o tempo espera se situou entre os 5 e os 10 minutos:\n",
    "\n",
    "\n",
    "|\t|utentes |\tconsultas| \tfaltas| \ttempo espera| \tepoca| \tacidentes|\n",
    "|:-:|:-|:-|:-|:-|:-|\n",
    "|Jan| \t350| \t90| \t5| \t12.4 |\tbaixa |\t0.0|\n",
    "|Fev| \t352| \t80| \t7| \t12.5| \tbaixa |\t0.0|\n",
    "|Mar| \t360| \t87| \t2| \t6.2| \tbaixa |\t0.0|\n"
   ]
  },
  {
   "cell_type": "code",
   "execution_count": null,
   "metadata": {
    "collapsed": false
   },
   "outputs": [],
   "source": []
  },
  {
   "cell_type": "markdown",
   "metadata": {},
   "source": [
    "## Filtros especiais\n",
    "\n",
    "Existem um conjunto de funções especiais:\n",
    "\n",
    "- `.all()`: devolve verdadeiro se todos os elementos são `True` no eixo pedido (por defeito é ao longo das colunas)\n",
    "- `.any()`: devolve verdadeiro se algum elemento é  `True` no eixo pedido (por defeito é ao longo das colunas)\n",
    "- `.isnull()`: devolve um objecto boleano do mesmo tamanho indicando se os valores são `null`.\n",
    "- `.notnull()`: o contrário da função `isnull()`.\n",
    "\n",
    "\n",
    "Estas funções podem ser usadas tendo em atenção que o número 0 é considerado `False` e `NaN` é considerado `null`."
   ]
  },
  {
   "cell_type": "code",
   "execution_count": null,
   "metadata": {
    "collapsed": false
   },
   "outputs": [],
   "source": [
    "new_csaude_df = csaude1_df.copy()\n",
    "new_csaude_df['vacinas'] = [0, 0, 50, 60, 70, 80]\n",
    "new_csaude_df"
   ]
  },
  {
   "cell_type": "markdown",
   "metadata": {},
   "source": [
    "### Todos os elementos de uma coluna são diferentes de zero?"
   ]
  },
  {
   "cell_type": "code",
   "execution_count": null,
   "metadata": {
    "collapsed": false
   },
   "outputs": [],
   "source": [
    "new_csaude_df.all()"
   ]
  },
  {
   "cell_type": "markdown",
   "metadata": {},
   "source": [
    "**Q4:** Devolver apenas as colunas em que todos os elementos são diferentes de zero.\n",
    "\n",
    "|| \tutentes \t|consultas |\tfaltas \t|tempo espera| \tepoca|\n",
    "|:-|:-|:-|:-|:-|:-|\n",
    "|Jan |\t350 |\t90 |\t5 |\t12.4 |\tbaixa|\n",
    "|Fev | \t352 |\t80 |\t7 |\t12.5 |\tbaixa|\n",
    "|Mar |\t360 |\t87 |\t2 |\t6.2 |\tbaixa|\n",
    "|Abr | \t367 |\t68 |\t15 |\t2.1 |\tmedia|\n",
    "|Mai |\t370 |\t95 |\t4 |\tNaN |\tmedia|\n",
    "|Jun |\t381 |\t110 |\t8 |\t17.3 |\talta|"
   ]
  },
  {
   "cell_type": "code",
   "execution_count": null,
   "metadata": {
    "collapsed": false
   },
   "outputs": [],
   "source": []
  },
  {
   "cell_type": "markdown",
   "metadata": {},
   "source": [
    "### Existem elementos ao longo da coluna diferentes de zero?"
   ]
  },
  {
   "cell_type": "code",
   "execution_count": null,
   "metadata": {
    "collapsed": false
   },
   "outputs": [],
   "source": [
    "new_csaude_df.any()"
   ]
  },
  {
   "cell_type": "markdown",
   "metadata": {},
   "source": [
    "**Q5:** Devolver apenas as colunas que têm algum elemento diferente de zero.\n",
    "\n",
    "\n",
    "|\t|utentes |\tconsultas |\tfaltas |\ttempo espera |\tepoca |\tvacinas|\n",
    "|:-|:-|:-|:-|:-|:-|:-|\n",
    "|Jan| \t350| \t90 |\t5 |\t12.4 |\tbaixa |\t0|\n",
    "|Fev |\t352 |\t80 |\t7 |\t12.5 |\tbaixa |\t0|\n",
    "|Mar |\t360 |\t87| \t2 |\t6.2 |\tbaixa |\t50|\n",
    "|Abr |\t367 |\t68 |\t15 |\t2.1 |\tmedia |\t60|\n",
    "|Mai |\t370 |\t95 |\t4 |\tNaN |\tmedia |\t70|\n",
    "|Jun |\t381 |\t110 |\t8 |\t17.3 |\talta |\t80|\n"
   ]
  },
  {
   "cell_type": "code",
   "execution_count": null,
   "metadata": {
    "collapsed": false
   },
   "outputs": [],
   "source": []
  },
  {
   "cell_type": "markdown",
   "metadata": {},
   "source": [
    "### Existem elementos não definidos  (`NaN`)?"
   ]
  },
  {
   "cell_type": "code",
   "execution_count": null,
   "metadata": {
    "collapsed": false
   },
   "outputs": [],
   "source": [
    "new_csaude_df.isnull()"
   ]
  },
  {
   "cell_type": "markdown",
   "metadata": {},
   "source": [
    "**Q6:** Existem elementos não definidos?\n",
    "\n",
    "    utentes         False\n",
    "    consultas       False\n",
    "    faltas          False\n",
    "    tempo espera     True\n",
    "    epoca           False\n",
    "    acidentes       False\n",
    "    vacinas         False\n",
    "    dtype: bool"
   ]
  },
  {
   "cell_type": "code",
   "execution_count": null,
   "metadata": {
    "collapsed": false
   },
   "outputs": [],
   "source": []
  },
  {
   "cell_type": "markdown",
   "metadata": {},
   "source": [
    "**Q7:** Devolver apenas a(as) coluna(s) que têm elementos não definidos\n",
    "\n",
    "\n",
    "|\t|tempo espera|\n",
    "|:-|:-|\n",
    "|Jan |\t12.4|\n",
    "|Fev |\t12.5|\n",
    "|Mar |\t6.2|\n",
    "|Abr |\t2.1|\n",
    "|Mai |\tNaN|\n",
    "|Jun |\t17.3|"
   ]
  },
  {
   "cell_type": "code",
   "execution_count": null,
   "metadata": {
    "collapsed": false
   },
   "outputs": [],
   "source": []
  },
  {
   "cell_type": "markdown",
   "metadata": {},
   "source": [
    "**Q8:** Devolver apenas as colunas que não contêm `NaN`s\n",
    "\n",
    "| |\tutentes |\tconsultas \t|faltas |\tepoca |\tacidentes |\tvacinas|\n",
    "|:-|:-|:-|:-|:-|:-|:-|\n",
    "|Jan |\t350 |\t90 |\t5 |\tbaixa |\t0.0 |\t0\n",
    "|Fev |\t352 |\t80 |\t7 |\tbaixa |\t0.0 |\t0\n",
    "|Mar |\t360 |\t87 |\t2 |\tbaixa |\t0.0 |\t50\n",
    "|Abr |\t367 |\t68 |\t15 |\tmedia |\t0.0 |\t60\n",
    "|Mai |\t370 |\t95 |\t4 |\tmedia |\t0.0 |\t70\n",
    "|Jun |\t381 |\t110 |\t8 |\talta |\t0.0 |\t80"
   ]
  },
  {
   "cell_type": "code",
   "execution_count": null,
   "metadata": {
    "collapsed": false
   },
   "outputs": [],
   "source": []
  },
  {
   "cell_type": "markdown",
   "metadata": {},
   "source": [
    "---\n",
    "# Missing&nbsp;data"
   ]
  },
  {
   "cell_type": "markdown",
   "metadata": {},
   "source": [
    "## Eliminar linhas com `NaN`s\n",
    "\n",
    "A função `.dropna(axis=0, how='any', thresh=None, subset=None, inplace=False)` devolve um novo `DataFrame` não incluíndo as linhas (`axis=0`) ou colunas (`axis=0`) que têm `NaN`s:\n",
    "\n",
    "- `how='any'`: basta existir um elemento `NaN`;\n",
    "- `how='all'`: todos os elementos têm de ser `NaN`.\n",
    "\n"
   ]
  },
  {
   "cell_type": "markdown",
   "metadata": {},
   "source": [
    "**Exemplo:** Devolver um `DataFrame` que não inclua as colunas que tenham algum `NaN`s"
   ]
  },
  {
   "cell_type": "code",
   "execution_count": null,
   "metadata": {
    "collapsed": false
   },
   "outputs": [],
   "source": [
    "new_csaude_df.dropna(axis=0, how='any')"
   ]
  },
  {
   "cell_type": "markdown",
   "metadata": {},
   "source": [
    "## Preencher os _missing values_\n",
    "\n",
    "A função `.fillna()` permite preencher as entradas que contêm `NaN`s com um determinado valor"
   ]
  },
  {
   "cell_type": "code",
   "execution_count": null,
   "metadata": {
    "collapsed": false
   },
   "outputs": [],
   "source": [
    "new_csaude_df.fillna(value=10)"
   ]
  },
  {
   "cell_type": "markdown",
   "metadata": {},
   "source": [
    "---\n",
    "# Operações&nbsp;sobre&nbsp;os&nbsp;dados"
   ]
  },
  {
   "cell_type": "code",
   "execution_count": null,
   "metadata": {
    "collapsed": false
   },
   "outputs": [],
   "source": [
    "new_csaude_df.acidentes[new_csaude_df.vacinas > 0] = 23\n",
    "new_csaude_df"
   ]
  },
  {
   "cell_type": "markdown",
   "metadata": {},
   "source": [
    "## Operações vectoriais"
   ]
  },
  {
   "cell_type": "code",
   "execution_count": null,
   "metadata": {
    "collapsed": false
   },
   "outputs": [],
   "source": [
    "new_csaude2_df = new_csaude_df.loc[:,'utentes':'tempo espera'].copy()\n",
    "new_csaude2_df"
   ]
  },
  {
   "cell_type": "code",
   "execution_count": null,
   "metadata": {
    "collapsed": false
   },
   "outputs": [],
   "source": [
    "new_csaude2_df.floordiv(8)"
   ]
  },
  {
   "cell_type": "code",
   "execution_count": null,
   "metadata": {
    "collapsed": false
   },
   "outputs": [],
   "source": [
    "np.floor_divide(new_csaude2_df,8)"
   ]
  },
  {
   "cell_type": "markdown",
   "metadata": {},
   "source": [
    "## Aplicar uma função"
   ]
  },
  {
   "cell_type": "code",
   "execution_count": null,
   "metadata": {
    "collapsed": true
   },
   "outputs": [],
   "source": [
    "def dia_trabalho(n):\n",
    "    return n//8 # divisão inteira"
   ]
  },
  {
   "cell_type": "code",
   "execution_count": null,
   "metadata": {
    "collapsed": false
   },
   "outputs": [],
   "source": [
    "new_csaude2_df.apply(dia_trabalho)"
   ]
  },
  {
   "cell_type": "code",
   "execution_count": null,
   "metadata": {
    "collapsed": false
   },
   "outputs": [],
   "source": [
    "new_csaude2_df.apply(lambda x: x//8)"
   ]
  },
  {
   "cell_type": "code",
   "execution_count": null,
   "metadata": {
    "collapsed": false
   },
   "outputs": [],
   "source": [
    "new_csaude2_df.apply(np.cumsum)"
   ]
  },
  {
   "cell_type": "code",
   "execution_count": null,
   "metadata": {
    "collapsed": false
   },
   "outputs": [],
   "source": [
    "new_csaude2_df.apply(lambda x: x.max()-x.min())"
   ]
  },
  {
   "cell_type": "markdown",
   "metadata": {},
   "source": [
    "## Mapear um conjunto de valores"
   ]
  },
  {
   "cell_type": "code",
   "execution_count": null,
   "metadata": {
    "collapsed": false
   },
   "outputs": [],
   "source": [
    "transformacao = {'baixa':0, 'media':1, 'alta':2}\n",
    "new_csaude_df.epoca.map(transformacao)"
   ]
  },
  {
   "cell_type": "markdown",
   "metadata": {},
   "source": [
    "## Guardar as transformações"
   ]
  },
  {
   "cell_type": "code",
   "execution_count": null,
   "metadata": {
    "collapsed": false
   },
   "outputs": [],
   "source": [
    "new_csaude_df['epoca_num'] = new_csaude_df.epoca.map(transformacao)\n",
    "new_csaude_df"
   ]
  },
  {
   "cell_type": "code",
   "execution_count": null,
   "metadata": {
    "collapsed": false
   },
   "outputs": [],
   "source": [
    "new_csaude_df['consultas hora'] = new_csaude_df.consultas.floordiv(8)\n",
    "new_csaude_df"
   ]
  },
  {
   "cell_type": "code",
   "execution_count": null,
   "metadata": {
    "collapsed": false
   },
   "outputs": [],
   "source": [
    "new_csaude_df['consultas marcadas'] = new_csaude_df.consultas + new_csaude_df.faltas\n",
    "new_csaude_df"
   ]
  },
  {
   "cell_type": "markdown",
   "metadata": {},
   "source": [
    "# Juntar&nbsp;dois&nbsp;DataFrames\n",
    "\n",
    "Mais informação pode ser obtida no site oficial do [python pandas](https://pandas.pydata.org/pandas-docs/stable/merging.html)"
   ]
  },
  {
   "cell_type": "markdown",
   "metadata": {},
   "source": [
    "## `Append`\n",
    "\n",
    "O método `append()` permite juntar um `DataFrame` a seguir ao outro. \n",
    "\n",
    "**Atenção:** ele mantém os índices originais. Para ignorar e criar novos índices, é necessário usar a opção `ignore_index=True`."
   ]
  },
  {
   "cell_type": "code",
   "execution_count": null,
   "metadata": {
    "collapsed": true
   },
   "outputs": [],
   "source": [
    "csaude_df1 = pd.read_csv('csaude1.csv')\n",
    "csaude_df2 = pd.read_csv('csaude2.csv')"
   ]
  },
  {
   "cell_type": "code",
   "execution_count": null,
   "metadata": {
    "collapsed": false
   },
   "outputs": [],
   "source": [
    "csaude_df1.append(csaude_df2)"
   ]
  },
  {
   "cell_type": "code",
   "execution_count": null,
   "metadata": {
    "collapsed": false
   },
   "outputs": [],
   "source": [
    "csaude_df1.append(csaude_df2, ignore_index=True)"
   ]
  },
  {
   "cell_type": "markdown",
   "metadata": {},
   "source": [
    "## `Concat`"
   ]
  },
  {
   "cell_type": "code",
   "execution_count": null,
   "metadata": {
    "collapsed": false
   },
   "outputs": [],
   "source": [
    "csaude_df1 = pd.read_csv('csaude1.csv', index_col='mes')\n",
    "csaude_df2 = pd.read_csv('csaude2.csv', index_col='mes')\n",
    "csaude_df = csaude_df1.append(csaude_df2)\n",
    "csaude_df"
   ]
  },
  {
   "cell_type": "code",
   "execution_count": null,
   "metadata": {
    "collapsed": false
   },
   "outputs": [],
   "source": [
    "epocas = pd.DataFrame(csaude_df.epoca.map(transformacao))\n",
    "epocas"
   ]
  },
  {
   "cell_type": "code",
   "execution_count": null,
   "metadata": {
    "collapsed": false
   },
   "outputs": [],
   "source": [
    "epocas = epocas.rename(columns={'epoca': 'epoca num'})\n",
    "epocas"
   ]
  },
  {
   "cell_type": "code",
   "execution_count": null,
   "metadata": {
    "collapsed": false
   },
   "outputs": [],
   "source": [
    "csaude_df2 = pd.concat([csaude_df, epocas])\n",
    "csaude_df2"
   ]
  },
  {
   "cell_type": "code",
   "execution_count": null,
   "metadata": {
    "collapsed": false
   },
   "outputs": [],
   "source": [
    "csaude_df3 = pd.concat([csaude_df, epocas], axis = 1)\n",
    "csaude_df3"
   ]
  },
  {
   "cell_type": "markdown",
   "metadata": {},
   "source": [
    "# Soluções:\n",
    "\n",
    "- **Q1:** `csaude1_df.loc['Mar':'Jun', ['consultas', 'faltas']]`\n",
    "- **Q2:** `csaude1_df.iloc[0::2, :3]`\n",
    "- **Q3:** `csaude1_df[ (csaude1_df['tempo espera'] >=5) & (csaude1_df['tempo espera'] <=15)]`\n",
    "- **Q4:** `new_csaude_df.loc[:, new_csaude_df.all()]`\n",
    "- **Q5:** `new_csaude_df.loc[:,new_csaude_df.any()]`\n",
    "- **Q6:** `new_csaude_df.isnull().any()`\n",
    "- **Q7:** `new_csaude_df.loc[:, new_csaude_df.isnull().any()]`\n",
    "- **Q8:** `new_csaude_df.loc[:,new_csaude_df.notnull().all()]`"
   ]
  }
 ],
 "metadata": {
  "kernelspec": {
   "display_name": "Python 3",
   "language": "python",
   "name": "python3"
  },
  "language_info": {
   "codemirror_mode": {
    "name": "ipython",
    "version": 3
   },
   "file_extension": ".py",
   "mimetype": "text/x-python",
   "name": "python",
   "nbconvert_exporter": "python",
   "pygments_lexer": "ipython3",
   "version": "3.5.2"
  }
 },
 "nbformat": 4,
 "nbformat_minor": 2
}
