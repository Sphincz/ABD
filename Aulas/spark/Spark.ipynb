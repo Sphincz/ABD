{
 "cells": [
  {
   "cell_type": "markdown",
   "metadata": {},
   "source": [
    "<table style=\"background-color: transparent;\">\n",
    "<tr>\n",
    "<td><img src=\"tutorial/spark-logo-trademark.png\" width=\"250px\" /></td>\n",
    "<td> + </td>\n",
    "<td><img src=\"tutorial/Python_logo-768x325.png\" width=\"350px\" /></td>\n",
    "<td> + </td>\n",
    "<td><img src=\"tutorial/logo-gray.png\" width=\"250px\" /></td>\n",
    "</tr>\n",
    "</table>"
   ]
  },
  {
   "cell_type": "markdown",
   "metadata": {},
   "source": [
    "# Introdução ao Apache Spark\n",
    "\n",
    "\n",
    "\n",
    "** Este documento é composto pelas seguintes partes:**\n",
    "\n",
    "* [*Parte 1:* Tutorial Apache Spark](tutorial/tutorial_spark.ipynb)\n",
    "\n",
    "* *Parte 2*: O cluster da UC Algoritmos para Big Data\n",
    "\n",
    "* [*Parte 3:* Exemplo: calcular o PI no spark](cluster/spark_compute_pi.ipynb) \n",
    "\n",
    "* [*Parte 4:* Exemplo: calcular o número de palavras em documentos (I)](cluster/Exemplo_Spark_HDFS.ipynb) \n",
    "\n",
    "* [*Parte 5:* Exemplo: calcular o número de palavras em documentos (II)](cluster/Exemplo_Spark_HDFS2.ipynb) "
   ]
  },
  {
   "cell_type": "markdown",
   "metadata": {},
   "source": [
    "# Uso de uma máquina virtual\n",
    "\n",
    "Alternativamente é possível usar uma máquina virtual com o Apache Spark (e HDFS) instalado. Recomenda-se as máquinas virtuais da [cloudera](https://www.cloudera.com/). Os links directos para fazerem o download são os seguintes:\n",
    "\n",
    "\n",
    "## VirtualBox\n",
    "\n",
    "[https://downloads.cloudera.com/demo_vm/virtualbox/cloudera-quickstart-vm-5.4.2-0-virtualbox.zip](https://downloads.cloudera.com/demo_vm/virtualbox/cloudera-quickstart-vm-5.4.2-0-virtualbox.zip)\n",
    "\n",
    "\n",
    "\n",
    "## Vmware\n",
    "\n",
    "[https://downloads.cloudera.com/demo_vm/vmware/cloudera-quickstart-vm-5.4.2-0-vmware.zip](https://downloads.cloudera.com/demo_vm/vmware/cloudera-quickstart-vm-5.4.2-0-vmware.zip)\n",
    "\n",
    "\n",
    "**NOTA:** podem obter máquinas virtuais mais recentes directamente do site da [cloudera](https://www.cloudera.com/), mediante o registo."
   ]
  }
 ],
 "metadata": {
  "kernelspec": {
   "display_name": "Python 3",
   "language": "python",
   "name": "python3"
  },
  "language_info": {
   "codemirror_mode": {
    "name": "ipython",
    "version": 3
   },
   "file_extension": ".py",
   "mimetype": "text/x-python",
   "name": "python",
   "nbconvert_exporter": "python",
   "pygments_lexer": "ipython3",
   "version": "3.5.2"
  }
 },
 "nbformat": 4,
 "nbformat_minor": 2
}
