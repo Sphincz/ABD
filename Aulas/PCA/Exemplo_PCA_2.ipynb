{
 "cells": [
  {
   "cell_type": "code",
   "execution_count": null,
   "metadata": {
    "collapsed": false
   },
   "outputs": [],
   "source": [
    "%pylab inline"
   ]
  },
  {
   "cell_type": "markdown",
   "metadata": {},
   "source": [
    "** Definir matrizes de rotação **"
   ]
  },
  {
   "cell_type": "code",
   "execution_count": null,
   "metadata": {
    "collapsed": false
   },
   "outputs": [],
   "source": [
    "def rotate(axis, value):\n",
    "    if axis=='x':\n",
    "        rot = np.array([[1,0,0],[0,cos(value),-sin(value)],[0,sin(value),cos(value)]])\n",
    "    elif axis == 'y':\n",
    "        rot = np.array([[cos(value),0,sin(value)],[0,1,0],[-sin(value),0, cos(value)]])\n",
    "    elif axis == 'z':\n",
    "        rot = np.array([[cos(value),-sin(value),0],[sin(value),cos(value),0],[0,0,1]])    \n",
    "    else:\n",
    "        print (\"Erro: axis deve ser uma letra (x, y ou z)\")\n",
    "        return\n",
    "    return rot"
   ]
  },
  {
   "cell_type": "code",
   "execution_count": null,
   "metadata": {
    "collapsed": true
   },
   "outputs": [],
   "source": [
    "def pca(data):\n",
    "    \"\"\"PCA: Perform PCA using SVD.\n",
    "     data - MxN matrix of input data\n",
    "            (M dimensions, N trials)\n",
    "Returns:\n",
    "  signals - MxN matrix of projected data\n",
    "       PC - each column is a principal component\n",
    "        V - variances of principal components\"\"\"\n",
    "    m,n = data.shape\n",
    "    # subtract off the mean for each dimension\n",
    "    mn = mean(data,axis=1)\n",
    "    data = data - tile(mn[:,newaxis],(1,n))\n",
    "    # construct the matrix Y\n",
    "    Y = data.T / sqrt(n-1)\n",
    "    # SVD does it all\n",
    "    [u,S,PC] = svd(Y)\n",
    "    # calculate the variances\n",
    "    V = S**2\n",
    "    # project the original data\n",
    "    signals = PC.dot(data)\n",
    "    return signals,PC,V"
   ]
  },
  {
   "cell_type": "markdown",
   "metadata": {},
   "source": [
    "** Geração de dados aleatória **"
   ]
  },
  {
   "cell_type": "code",
   "execution_count": null,
   "metadata": {
    "collapsed": true
   },
   "outputs": [],
   "source": [
    "# Número de pontos\n",
    "t = 1000;"
   ]
  },
  {
   "cell_type": "code",
   "execution_count": null,
   "metadata": {
    "collapsed": false
   },
   "outputs": [],
   "source": [
    "# simulacao gravidade\n",
    "sigma_z = 0.05\n",
    "mean_z = 9\n",
    "signal_z = np.random.randn(t)*sigma_z + mean_z"
   ]
  },
  {
   "cell_type": "code",
   "execution_count": null,
   "metadata": {
    "collapsed": false
   },
   "outputs": [],
   "source": [
    "plot(signal_z)\n",
    "axis([0,1000,0,10])"
   ]
  },
  {
   "cell_type": "markdown",
   "metadata": {},
   "source": [
    "** Simulação de aceleração longitudinal **\n",
    "\n",
    "Os dados são gerados segundo um processo de Markov de 1ª ordem."
   ]
  },
  {
   "cell_type": "code",
   "execution_count": null,
   "metadata": {
    "collapsed": false
   },
   "outputs": [],
   "source": [
    "# simulacao acel longitudinal\n",
    "accel_M_x = np.array([[0.95, 0.05, 0],\n",
    "           [0, 0.96, 0.04],\n",
    "           [0.04, 0, 0.96]])\n",
    "mean_x = np.array([0, 1, -1])       \n",
    "sigma_x = np.array([0.1, 0.1, 0.1])\n",
    "\n",
    "estado = 1\n",
    "signal_x = np.zeros(t)\n",
    "estados = np.zeros(t)\n",
    "for i in range(t):\n",
    "    signal_x[i] = np.random.randn()*sigma_x[estado]+mean_x[estado]\n",
    "    aleatorio = np.random.uniform(0,1)\n",
    "    indices = np.where(aleatorio < np.cumsum(accel_M_x[estado,:]))\n",
    "    estado = indices[0][0]\n",
    "    estados[i] = estado"
   ]
  },
  {
   "cell_type": "code",
   "execution_count": null,
   "metadata": {
    "collapsed": false
   },
   "outputs": [],
   "source": [
    "plot(signal_x)\n",
    "axis([0,1000,0,10])"
   ]
  },
  {
   "cell_type": "code",
   "execution_count": null,
   "metadata": {
    "collapsed": false
   },
   "outputs": [],
   "source": [
    "# simulacao acel lateral\n",
    "accel_M_y = np.array([[0.90, 0.05, 0.05],\n",
    "           [0.2, 0.8, 0],\n",
    "           [0.2, 0, 0.8]])\n",
    "mean_y = np.array([0, 0.4, -0.4])       \n",
    "sigma_y = np.array([0.01, 0.05, 0.05]) \n",
    "estado = 1\n",
    "signal_y = np.zeros(t)\n",
    "estados = zeros(t)\n",
    "for i in range(t):\n",
    "    signal_y[i] = np.random.randn()*sigma_y[estado]+mean_y[estado]\n",
    "    aleatorio = np.random.uniform(0,1)\n",
    "    indices = np.where(aleatorio < np.cumsum(accel_M_y[estado,:]))\n",
    "    estado = indices[0][0]\n",
    "    estados[i] = estado"
   ]
  },
  {
   "cell_type": "code",
   "execution_count": null,
   "metadata": {
    "collapsed": false
   },
   "outputs": [],
   "source": [
    "plot(signal_y)\n",
    "axis([0,1000,0,10])"
   ]
  },
  {
   "cell_type": "code",
   "execution_count": null,
   "metadata": {
    "collapsed": false
   },
   "outputs": [],
   "source": [
    "dados = vstack((signal_x,signal_y,signal_z))\n",
    "plot(range(t), dados[0,:])\n",
    "plot(range(t), dados[1,:])\n",
    "plot(range(t), dados[2,:])"
   ]
  },
  {
   "cell_type": "markdown",
   "metadata": {},
   "source": [
    "** Rotação dos dados **"
   ]
  },
  {
   "cell_type": "code",
   "execution_count": null,
   "metadata": {
    "collapsed": true
   },
   "outputs": [],
   "source": [
    "Rx = rotate('y',pi/4)\n",
    "Ry = rotate('x',pi/4)\n",
    "Rz = rotate('z',pi/4)"
   ]
  },
  {
   "cell_type": "code",
   "execution_count": null,
   "metadata": {
    "collapsed": false
   },
   "outputs": [],
   "source": [
    "dados_rotated = Rx.dot(Ry.dot(Rz.dot(dados)))\n",
    "plot(range(t), dados_rotated[0,:])\n",
    "plot(range(t), dados_rotated[1,:])\n",
    "plot(range(t), dados_rotated[2,:])"
   ]
  },
  {
   "cell_type": "code",
   "execution_count": null,
   "metadata": {
    "collapsed": false
   },
   "outputs": [],
   "source": [
    "signals, PC, V = pca(dados_rotated)"
   ]
  },
  {
   "cell_type": "code",
   "execution_count": null,
   "metadata": {
    "collapsed": false
   },
   "outputs": [],
   "source": [
    "plot(range(t), signals[0,:])\n",
    "plot(range(t), signals[1,:])\n",
    "plot(range(t), signals[2,:])\n",
    "title('recovered points')"
   ]
  },
  {
   "cell_type": "code",
   "execution_count": null,
   "metadata": {
    "collapsed": false
   },
   "outputs": [],
   "source": [
    "proj_data = -PC.dot(dados_rotated)\n",
    "plot(range(t), proj_data[0,:])\n",
    "plot(range(t), proj_data[1,:])\n",
    "plot(range(t), proj_data[2,:])\n",
    "title('projected original rotated points');"
   ]
  }
 ],
 "metadata": {
  "kernelspec": {
   "display_name": "Python 3",
   "language": "python",
   "name": "python3"
  },
  "language_info": {
   "codemirror_mode": {
    "name": "ipython",
    "version": 3
   },
   "file_extension": ".py",
   "mimetype": "text/x-python",
   "name": "python",
   "nbconvert_exporter": "python",
   "pygments_lexer": "ipython3",
   "version": "3.5.2"
  }
 },
 "nbformat": 4,
 "nbformat_minor": 0
}
